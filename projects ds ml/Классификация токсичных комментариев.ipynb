{
 "cells": [
  {
   "cell_type": "markdown",
   "metadata": {},
   "source": [
    "<h1>Содержание<span class=\"tocSkip\"></span></h1>\n",
    "<div class=\"toc\"><ul class=\"toc-item\"><li><span><a href=\"#Подготовка\" data-toc-modified-id=\"Подготовка-1\"><span class=\"toc-item-num\">1&nbsp;&nbsp;</span>Подготовка</a></span></li><li><span><a href=\"#Подготовка\" data-toc-modified-id=\"Подготовка-2\"><span class=\"toc-item-num\">2&nbsp;&nbsp;</span>Подготовка</a></span><ul class=\"toc-item\"><li><span><a href=\"#Лемматизация-wordnet\" data-toc-modified-id=\"Лемматизация-wordnet-2.1\"><span class=\"toc-item-num\">2.1&nbsp;&nbsp;</span>Лемматизация wordnet</a></span></li><li><span><a href=\"#Создание-признаков-tf-idf\" data-toc-modified-id=\"Создание-признаков-tf-idf-2.2\"><span class=\"toc-item-num\">2.2&nbsp;&nbsp;</span>Создание признаков tf-idf</a></span></li></ul></li><li><span><a href=\"#Обучение-моделей\" data-toc-modified-id=\"Обучение-моделей-3\"><span class=\"toc-item-num\">3&nbsp;&nbsp;</span>Обучение моделей</a></span><ul class=\"toc-item\"><li><span><a href=\"#Логистическая-регрессия\" data-toc-modified-id=\"Логистическая-регрессия-3.1\"><span class=\"toc-item-num\">3.1&nbsp;&nbsp;</span>Логистическая регрессия</a></span></li><li><span><a href=\"#Метод-опорных-векторов-с-линейным-ядром\" data-toc-modified-id=\"Метод-опорных-векторов-с-линейным-ядром-3.2\"><span class=\"toc-item-num\">3.2&nbsp;&nbsp;</span>Метод опорных векторов с линейным ядром</a></span></li><li><span><a href=\"#XGBClassifier\" data-toc-modified-id=\"XGBClassifier-3.3\"><span class=\"toc-item-num\">3.3&nbsp;&nbsp;</span>XGBClassifier</a></span></li><li><span><a href=\"#Проверка-лучшей-модели-на-тестовой-выборке\" data-toc-modified-id=\"Проверка-лучшей-модели-на-тестовой-выборке-3.4\"><span class=\"toc-item-num\">3.4&nbsp;&nbsp;</span>Проверка лучшей модели на тестовой выборке</a></span></li></ul></li><li><span><a href=\"#Выводы\" data-toc-modified-id=\"Выводы-4\"><span class=\"toc-item-num\">4&nbsp;&nbsp;</span>Выводы</a></span></li><li><span><a href=\"#Чек-лист-проверки\" data-toc-modified-id=\"Чек-лист-проверки-5\"><span class=\"toc-item-num\">5&nbsp;&nbsp;</span>Чек-лист проверки</a></span></li></ul></div>"
   ]
  },
  {
   "cell_type": "markdown",
   "metadata": {},
   "source": [
    "# Проект для «Викишоп»"
   ]
  },
  {
   "cell_type": "markdown",
   "metadata": {},
   "source": [
    "Интернет-магазин «Викишоп» запускает новый сервис. Теперь пользователи могут редактировать и дополнять описания товаров, как в вики-сообществах. То есть клиенты предлагают свои правки и комментируют изменения других. Магазину нужен инструмент, который будет искать токсичные комментарии и отправлять их на модерацию. \n",
    "\n",
    "Обучите модель классифицировать комментарии на позитивные и негативные. В вашем распоряжении набор данных с разметкой о токсичности правок.\n",
    "\n",
    "Постройте модель со значением метрики качества *F1* не меньше 0.75. \n",
    "\n",
    "**Инструкция по выполнению проекта**\n",
    "\n",
    "1. Загрузите и подготовьте данные.\n",
    "2. Обучите разные модели. \n",
    "3. Сделайте выводы.\n",
    "\n",
    "Для выполнения проекта применять *BERT* необязательно, но вы можете попробовать.\n",
    "\n",
    "**Описание данных**\n",
    "\n",
    "Данные находятся в файле `toxic_comments.csv`. Столбец *text* в нём содержит текст комментария, а *toxic* — целевой признак."
   ]
  },
  {
   "cell_type": "markdown",
   "metadata": {},
   "source": [
    "## Подготовка"
   ]
  },
  {
   "cell_type": "code",
   "execution_count": 1,
   "metadata": {},
   "outputs": [
    {
     "name": "stderr",
     "output_type": "stream",
     "text": [
      "C:\\Users\\atata\\anaconda3\\Lib\\site-packages\\transformers\\utils\\generic.py:260: FutureWarning: `torch.utils._pytree._register_pytree_node` is deprecated. Please use `torch.utils._pytree.register_pytree_node` instead.\n",
      "  torch.utils._pytree._register_pytree_node(\n"
     ]
    }
   ],
   "source": [
    "import pandas as pd\n",
    "\n",
    "import re\n",
    "import warnings\n",
    "import seaborn as sns\n",
    "import matplotlib.pyplot as plt\n",
    "import numpy as np\n",
    "import spacy\n",
    "from sklearn.pipeline import Pipeline\n",
    "\n",
    "\n",
    "\n",
    "from pymystem3 import Mystem\n",
    "from sklearn.linear_model import LogisticRegression\n",
    "\n",
    "\n",
    "\n",
    "from xgboost import XGBClassifier\n",
    "from sklearn.model_selection import GridSearchCV,cross_val_score, train_test_split\n",
    "\n",
    "\n",
    "\n",
    "from sklearn.svm import LinearSVC\n",
    "\n",
    "from sklearn.metrics import f1_score\n",
    "\n",
    "\n",
    "from nltk.corpus import stopwords as nltk_stopwords\n",
    "from sklearn.feature_extraction.text import TfidfVectorizer \n",
    "\n",
    "import nltk\n",
    "\n",
    "import torch\n",
    "import transformers\n",
    "from tqdm import notebook\n",
    "\n",
    "\n",
    "from transformers import BertTokenizer,BertConfig, BertModel\n",
    "RANDOM_STATE = 42"
   ]
  },
  {
   "cell_type": "code",
   "execution_count": 2,
   "metadata": {},
   "outputs": [
    {
     "data": {
      "text/html": [
       "<div>\n",
       "<style scoped>\n",
       "    .dataframe tbody tr th:only-of-type {\n",
       "        vertical-align: middle;\n",
       "    }\n",
       "\n",
       "    .dataframe tbody tr th {\n",
       "        vertical-align: top;\n",
       "    }\n",
       "\n",
       "    .dataframe thead th {\n",
       "        text-align: right;\n",
       "    }\n",
       "</style>\n",
       "<table border=\"1\" class=\"dataframe\">\n",
       "  <thead>\n",
       "    <tr style=\"text-align: right;\">\n",
       "      <th></th>\n",
       "      <th>Unnamed: 0</th>\n",
       "      <th>text</th>\n",
       "      <th>toxic</th>\n",
       "    </tr>\n",
       "  </thead>\n",
       "  <tbody>\n",
       "    <tr>\n",
       "      <th>0</th>\n",
       "      <td>0</td>\n",
       "      <td>Explanation\\nWhy the edits made under my usern...</td>\n",
       "      <td>0</td>\n",
       "    </tr>\n",
       "    <tr>\n",
       "      <th>1</th>\n",
       "      <td>1</td>\n",
       "      <td>D'aww! He matches this background colour I'm s...</td>\n",
       "      <td>0</td>\n",
       "    </tr>\n",
       "    <tr>\n",
       "      <th>2</th>\n",
       "      <td>2</td>\n",
       "      <td>Hey man, I'm really not trying to edit war. It...</td>\n",
       "      <td>0</td>\n",
       "    </tr>\n",
       "    <tr>\n",
       "      <th>3</th>\n",
       "      <td>3</td>\n",
       "      <td>\"\\nMore\\nI can't make any real suggestions on ...</td>\n",
       "      <td>0</td>\n",
       "    </tr>\n",
       "    <tr>\n",
       "      <th>4</th>\n",
       "      <td>4</td>\n",
       "      <td>You, sir, are my hero. Any chance you remember...</td>\n",
       "      <td>0</td>\n",
       "    </tr>\n",
       "  </tbody>\n",
       "</table>\n",
       "</div>"
      ],
      "text/plain": [
       "   Unnamed: 0                                               text  toxic\n",
       "0           0  Explanation\\nWhy the edits made under my usern...      0\n",
       "1           1  D'aww! He matches this background colour I'm s...      0\n",
       "2           2  Hey man, I'm really not trying to edit war. It...      0\n",
       "3           3  \"\\nMore\\nI can't make any real suggestions on ...      0\n",
       "4           4  You, sir, are my hero. Any chance you remember...      0"
      ]
     },
     "execution_count": 2,
     "metadata": {},
     "output_type": "execute_result"
    }
   ],
   "source": [
    "data = pd.read_csv(\"D:/загрузки/toxic_comments.csv\")\n",
    "data.head()"
   ]
  },
  {
   "cell_type": "markdown",
   "metadata": {},
   "source": [
    "## Подготовка"
   ]
  },
  {
   "cell_type": "code",
   "execution_count": 3,
   "metadata": {},
   "outputs": [
    {
     "name": "stdout",
     "output_type": "stream",
     "text": [
      "<class 'pandas.core.frame.DataFrame'>\n",
      "RangeIndex: 159292 entries, 0 to 159291\n",
      "Data columns (total 3 columns):\n",
      " #   Column      Non-Null Count   Dtype \n",
      "---  ------      --------------   ----- \n",
      " 0   Unnamed: 0  159292 non-null  int64 \n",
      " 1   text        159292 non-null  object\n",
      " 2   toxic       159292 non-null  int64 \n",
      "dtypes: int64(2), object(1)\n",
      "memory usage: 3.6+ MB\n"
     ]
    }
   ],
   "source": [
    "data.info()"
   ]
  },
  {
   "cell_type": "markdown",
   "metadata": {},
   "source": [
    "**Непонятно что за столбец `Unnamed: 0` возможно он дублирует индексы, проверим это**"
   ]
  },
  {
   "cell_type": "code",
   "execution_count": 4,
   "metadata": {},
   "outputs": [
    {
     "data": {
      "text/html": [
       "<div>\n",
       "<style scoped>\n",
       "    .dataframe tbody tr th:only-of-type {\n",
       "        vertical-align: middle;\n",
       "    }\n",
       "\n",
       "    .dataframe tbody tr th {\n",
       "        vertical-align: top;\n",
       "    }\n",
       "\n",
       "    .dataframe thead th {\n",
       "        text-align: right;\n",
       "    }\n",
       "</style>\n",
       "<table border=\"1\" class=\"dataframe\">\n",
       "  <thead>\n",
       "    <tr style=\"text-align: right;\">\n",
       "      <th></th>\n",
       "      <th>Unnamed: 0</th>\n",
       "      <th>text</th>\n",
       "      <th>toxic</th>\n",
       "    </tr>\n",
       "  </thead>\n",
       "  <tbody>\n",
       "    <tr>\n",
       "      <th>6080</th>\n",
       "      <td>6084</td>\n",
       "      <td>\"::I'll alos be looking in to see how this is ...</td>\n",
       "      <td>0</td>\n",
       "    </tr>\n",
       "    <tr>\n",
       "      <th>6081</th>\n",
       "      <td>6085</td>\n",
       "      <td>\"\\n\\nThe Ezekiel passage is quoted in the Molo...</td>\n",
       "      <td>0</td>\n",
       "    </tr>\n",
       "    <tr>\n",
       "      <th>6082</th>\n",
       "      <td>6086</td>\n",
       "      <td>Thank you for experimenting with  Wikipedia. Y...</td>\n",
       "      <td>0</td>\n",
       "    </tr>\n",
       "    <tr>\n",
       "      <th>6083</th>\n",
       "      <td>6087</td>\n",
       "      <td>Any complaints with that as the new wording?</td>\n",
       "      <td>0</td>\n",
       "    </tr>\n",
       "    <tr>\n",
       "      <th>6084</th>\n",
       "      <td>6088</td>\n",
       "      <td>\"\\nI also disagree with the merge as Strength ...</td>\n",
       "      <td>0</td>\n",
       "    </tr>\n",
       "    <tr>\n",
       "      <th>...</th>\n",
       "      <td>...</td>\n",
       "      <td>...</td>\n",
       "      <td>...</td>\n",
       "    </tr>\n",
       "    <tr>\n",
       "      <th>159287</th>\n",
       "      <td>159446</td>\n",
       "      <td>\":::::And for the second time of asking, when ...</td>\n",
       "      <td>0</td>\n",
       "    </tr>\n",
       "    <tr>\n",
       "      <th>159288</th>\n",
       "      <td>159447</td>\n",
       "      <td>You should be ashamed of yourself \\n\\nThat is ...</td>\n",
       "      <td>0</td>\n",
       "    </tr>\n",
       "    <tr>\n",
       "      <th>159289</th>\n",
       "      <td>159448</td>\n",
       "      <td>Spitzer \\n\\nUmm, theres no actual article for ...</td>\n",
       "      <td>0</td>\n",
       "    </tr>\n",
       "    <tr>\n",
       "      <th>159290</th>\n",
       "      <td>159449</td>\n",
       "      <td>And it looks like it was actually you who put ...</td>\n",
       "      <td>0</td>\n",
       "    </tr>\n",
       "    <tr>\n",
       "      <th>159291</th>\n",
       "      <td>159450</td>\n",
       "      <td>\"\\nAnd ... I really don't think you understand...</td>\n",
       "      <td>0</td>\n",
       "    </tr>\n",
       "  </tbody>\n",
       "</table>\n",
       "<p>153212 rows × 3 columns</p>\n",
       "</div>"
      ],
      "text/plain": [
       "        Unnamed: 0                                               text  toxic\n",
       "6080          6084  \"::I'll alos be looking in to see how this is ...      0\n",
       "6081          6085  \"\\n\\nThe Ezekiel passage is quoted in the Molo...      0\n",
       "6082          6086  Thank you for experimenting with  Wikipedia. Y...      0\n",
       "6083          6087       Any complaints with that as the new wording?      0\n",
       "6084          6088  \"\\nI also disagree with the merge as Strength ...      0\n",
       "...            ...                                                ...    ...\n",
       "159287      159446  \":::::And for the second time of asking, when ...      0\n",
       "159288      159447  You should be ashamed of yourself \\n\\nThat is ...      0\n",
       "159289      159448  Spitzer \\n\\nUmm, theres no actual article for ...      0\n",
       "159290      159449  And it looks like it was actually you who put ...      0\n",
       "159291      159450  \"\\nAnd ... I really don't think you understand...      0\n",
       "\n",
       "[153212 rows x 3 columns]"
      ]
     },
     "execution_count": 4,
     "metadata": {},
     "output_type": "execute_result"
    }
   ],
   "source": [
    "data[list(data.index != data['Unnamed: 0'].values)]"
   ]
  },
  {
   "cell_type": "markdown",
   "metadata": {},
   "source": [
    "**Не совпадают. Нужно удалить этот странный столбец непонятного назначения**"
   ]
  },
  {
   "cell_type": "code",
   "execution_count": 5,
   "metadata": {},
   "outputs": [
    {
     "data": {
      "text/html": [
       "<div>\n",
       "<style scoped>\n",
       "    .dataframe tbody tr th:only-of-type {\n",
       "        vertical-align: middle;\n",
       "    }\n",
       "\n",
       "    .dataframe tbody tr th {\n",
       "        vertical-align: top;\n",
       "    }\n",
       "\n",
       "    .dataframe thead th {\n",
       "        text-align: right;\n",
       "    }\n",
       "</style>\n",
       "<table border=\"1\" class=\"dataframe\">\n",
       "  <thead>\n",
       "    <tr style=\"text-align: right;\">\n",
       "      <th></th>\n",
       "      <th>text</th>\n",
       "      <th>toxic</th>\n",
       "    </tr>\n",
       "  </thead>\n",
       "  <tbody>\n",
       "    <tr>\n",
       "      <th>0</th>\n",
       "      <td>Explanation\\nWhy the edits made under my usern...</td>\n",
       "      <td>0</td>\n",
       "    </tr>\n",
       "    <tr>\n",
       "      <th>1</th>\n",
       "      <td>D'aww! He matches this background colour I'm s...</td>\n",
       "      <td>0</td>\n",
       "    </tr>\n",
       "    <tr>\n",
       "      <th>2</th>\n",
       "      <td>Hey man, I'm really not trying to edit war. It...</td>\n",
       "      <td>0</td>\n",
       "    </tr>\n",
       "  </tbody>\n",
       "</table>\n",
       "</div>"
      ],
      "text/plain": [
       "                                                text  toxic\n",
       "0  Explanation\\nWhy the edits made under my usern...      0\n",
       "1  D'aww! He matches this background colour I'm s...      0\n",
       "2  Hey man, I'm really not trying to edit war. It...      0"
      ]
     },
     "execution_count": 5,
     "metadata": {},
     "output_type": "execute_result"
    }
   ],
   "source": [
    "data = data.drop('Unnamed: 0', axis = 1)\n",
    "data.head(3)"
   ]
  },
  {
   "cell_type": "code",
   "execution_count": 6,
   "metadata": {},
   "outputs": [
    {
     "data": {
      "text/plain": [
       "toxic\n",
       "0    143106\n",
       "1     16186\n",
       "Name: count, dtype: int64"
      ]
     },
     "execution_count": 6,
     "metadata": {},
     "output_type": "execute_result"
    },
    {
     "data": {
      "image/png": "[encoded data removed]",
      "text/plain": [
       "<Figure size 640x480 with 1 Axes>"
      ]
     },
     "metadata": {},
     "output_type": "display_data"
    }
   ],
   "source": [
    "df = data['toxic'].value_counts()\n",
    "\n",
    "sns.countplot(data = data, x = 'toxic')\n",
    "plt.title('Дисбаланс классов toxic')\n",
    "plt.xlabel('классы')\n",
    "plt.ylabel('')\n",
    "df"
   ]
  },
  {
   "cell_type": "markdown",
   "metadata": {},
   "source": [
    "Наблюдается выраженный дисбаланс классов. Тоскичных комментариев гораздо меньше, чем нетоксичных"
   ]
  },
  {
   "cell_type": "markdown",
   "metadata": {},
   "source": [
    "## Лемматизация spacy (было wordnet)"
   ]
  },
  {
   "cell_type": "markdown",
   "metadata": {},
   "source": [
    "Проиведем лемматизацию текста твитов методом `wordnet`"
   ]
  },
  {
   "cell_type": "raw",
   "metadata": {},
   "source": [
    "%%time\n",
    "nlp = spacy.load(\"en_core_web_sm\")\n",
    "def clean_text(text):\n",
    "    # Очистка текста перед обработкой \n",
    "    return \" \".join(re.sub(r'[^a-zA-Z]', ' ', text).split())\n",
    "\n",
    "\n",
    "def nlp_lemmatize_pipe(texts):\n",
    "    cleaned_texts = [clean_text(text) for text in texts]\n",
    "    # Используем nlp.pipe для пакетной обработки\n",
    "    lemm_texts = []\n",
    "    for doc in nlp.pipe(cleaned_texts, batch_size=1000, n_process=-1):\n",
    "        lemm_texts.append(\" \".join([token.lemma_ for token in doc]).lower())\n",
    "    return lemm_texts\n",
    "\n",
    "# Применение к DataFrame\n",
    "data['lemmatize'] = nlp_lemmatize_pipe(data['text'])"
   ]
  },
  {
   "cell_type": "raw",
   "metadata": {},
   "source": [
    "data = data.drop('text', axis = 1)\n",
    "data.head()"
   ]
  },
  {
   "cell_type": "code",
   "execution_count": 7,
   "metadata": {},
   "outputs": [
    {
     "data": {
      "text/html": [
       "<div>\n",
       "<style scoped>\n",
       "    .dataframe tbody tr th:only-of-type {\n",
       "        vertical-align: middle;\n",
       "    }\n",
       "\n",
       "    .dataframe tbody tr th {\n",
       "        vertical-align: top;\n",
       "    }\n",
       "\n",
       "    .dataframe thead th {\n",
       "        text-align: right;\n",
       "    }\n",
       "</style>\n",
       "<table border=\"1\" class=\"dataframe\">\n",
       "  <thead>\n",
       "    <tr style=\"text-align: right;\">\n",
       "      <th></th>\n",
       "      <th>toxic</th>\n",
       "      <th>spacy_lemm</th>\n",
       "    </tr>\n",
       "  </thead>\n",
       "  <tbody>\n",
       "    <tr>\n",
       "      <th>0</th>\n",
       "      <td>0</td>\n",
       "      <td>explanation why the edit make under my usernam...</td>\n",
       "    </tr>\n",
       "    <tr>\n",
       "      <th>1</th>\n",
       "      <td>0</td>\n",
       "      <td>d aww he match this background colour i m seem...</td>\n",
       "    </tr>\n",
       "    <tr>\n",
       "      <th>2</th>\n",
       "      <td>0</td>\n",
       "      <td>hey man i m really not try to edit war it s ju...</td>\n",
       "    </tr>\n",
       "    <tr>\n",
       "      <th>3</th>\n",
       "      <td>0</td>\n",
       "      <td>more i can t make any real suggestion on impro...</td>\n",
       "    </tr>\n",
       "    <tr>\n",
       "      <th>4</th>\n",
       "      <td>0</td>\n",
       "      <td>you sir be my hero any chance you remember wha...</td>\n",
       "    </tr>\n",
       "  </tbody>\n",
       "</table>\n",
       "</div>"
      ],
      "text/plain": [
       "   toxic                                         spacy_lemm\n",
       "0      0  explanation why the edit make under my usernam...\n",
       "1      0  d aww he match this background colour i m seem...\n",
       "2      0  hey man i m really not try to edit war it s ju...\n",
       "3      0  more i can t make any real suggestion on impro...\n",
       "4      0  you sir be my hero any chance you remember wha..."
      ]
     },
     "execution_count": 7,
     "metadata": {},
     "output_type": "execute_result"
    }
   ],
   "source": [
    "data_spacy = pd.read_csv(\"text_project_spacy\", index_col=0)\n",
    "data_spacy.head()"
   ]
  },
  {
   "cell_type": "code",
   "execution_count": 8,
   "metadata": {},
   "outputs": [
    {
     "data": {
      "text/html": [
       "<div>\n",
       "<style scoped>\n",
       "    .dataframe tbody tr th:only-of-type {\n",
       "        vertical-align: middle;\n",
       "    }\n",
       "\n",
       "    .dataframe tbody tr th {\n",
       "        vertical-align: top;\n",
       "    }\n",
       "\n",
       "    .dataframe thead th {\n",
       "        text-align: right;\n",
       "    }\n",
       "</style>\n",
       "<table border=\"1\" class=\"dataframe\">\n",
       "  <thead>\n",
       "    <tr style=\"text-align: right;\">\n",
       "      <th></th>\n",
       "      <th>text</th>\n",
       "      <th>toxic</th>\n",
       "    </tr>\n",
       "  </thead>\n",
       "  <tbody>\n",
       "    <tr>\n",
       "      <th>4475</th>\n",
       "      <td>1993\\n\\n1994\\n\\n1995\\n\\n1996\\n\\n1997\\n\\n1998\\n...</td>\n",
       "      <td>0</td>\n",
       "    </tr>\n",
       "    <tr>\n",
       "      <th>6289</th>\n",
       "      <td>193.61.111.53  15:00</td>\n",
       "      <td>0</td>\n",
       "    </tr>\n",
       "    <tr>\n",
       "      <th>10193</th>\n",
       "      <td>64.86.141.133\"</td>\n",
       "      <td>0</td>\n",
       "    </tr>\n",
       "    <tr>\n",
       "      <th>17280</th>\n",
       "      <td>~ \\n\\n68.193.147.157</td>\n",
       "      <td>0</td>\n",
       "    </tr>\n",
       "    <tr>\n",
       "      <th>38743</th>\n",
       "      <td>88.104.31.21\"</td>\n",
       "      <td>0</td>\n",
       "    </tr>\n",
       "    <tr>\n",
       "      <th>52336</th>\n",
       "      <td>14:53,</td>\n",
       "      <td>0</td>\n",
       "    </tr>\n",
       "    <tr>\n",
       "      <th>53679</th>\n",
       "      <td>92.24.199.233|92.24.199.233]]</td>\n",
       "      <td>0</td>\n",
       "    </tr>\n",
       "    <tr>\n",
       "      <th>61644</th>\n",
       "      <td>\"\\n\\n 199.209.144.211  \"</td>\n",
       "      <td>0</td>\n",
       "    </tr>\n",
       "    <tr>\n",
       "      <th>82541</th>\n",
       "      <td>\"\\n '''''' 2010/2013 \"</td>\n",
       "      <td>0</td>\n",
       "    </tr>\n",
       "    <tr>\n",
       "      <th>119018</th>\n",
       "      <td>\"\"\"</td>\n",
       "      <td>1</td>\n",
       "    </tr>\n",
       "    <tr>\n",
       "      <th>137400</th>\n",
       "      <td>== \"\"\"</td>\n",
       "      <td>0</td>\n",
       "    </tr>\n",
       "  </tbody>\n",
       "</table>\n",
       "</div>"
      ],
      "text/plain": [
       "                                                     text  toxic\n",
       "4475    1993\\n\\n1994\\n\\n1995\\n\\n1996\\n\\n1997\\n\\n1998\\n...      0\n",
       "6289                                 193.61.111.53  15:00      0\n",
       "10193                                      64.86.141.133\"      0\n",
       "17280                                ~ \\n\\n68.193.147.157      0\n",
       "38743                                       88.104.31.21\"      0\n",
       "52336                                              14:53,      0\n",
       "53679                       92.24.199.233|92.24.199.233]]      0\n",
       "61644                            \"\\n\\n 199.209.144.211  \"      0\n",
       "82541                              \"\\n '''''' 2010/2013 \"      0\n",
       "119018                                                \"\"\"      1\n",
       "137400                                             == \"\"\"      0"
      ]
     },
     "execution_count": 8,
     "metadata": {},
     "output_type": "execute_result"
    }
   ],
   "source": [
    "data.loc[data_spacy[data_spacy['spacy_lemm'].isna()].index.values]"
   ]
  },
  {
   "cell_type": "code",
   "execution_count": 9,
   "metadata": {},
   "outputs": [
    {
     "data": {
      "text/plain": [
       "toxic         0\n",
       "spacy_lemm    0\n",
       "dtype: int64"
      ]
     },
     "execution_count": 9,
     "metadata": {},
     "output_type": "execute_result"
    }
   ],
   "source": [
    "#удалим эти 11 пропусков\n",
    "data_spacy.dropna(inplace = True)\n",
    "data_spacy.isna().sum()"
   ]
  },
  {
   "cell_type": "markdown",
   "metadata": {},
   "source": [
    "**Слова приведены к своей канонической форме**"
   ]
  },
  {
   "cell_type": "markdown",
   "metadata": {},
   "source": [
    "### Создание признаков tf-idf"
   ]
  },
  {
   "cell_type": "markdown",
   "metadata": {},
   "source": [
    "Предствавим текст в виде векторов, чтобы модель могла его анализировать. Используем tf-idf"
   ]
  },
  {
   "cell_type": "code",
   "execution_count": 10,
   "metadata": {},
   "outputs": [],
   "source": [
    "X_train1, X_test1, y_train1, y_test1 = train_test_split(data_spacy['spacy_lemm'], data_spacy['toxic'],\\\n",
    "                                                    test_size = 0.2, stratify = data_spacy['toxic'],\\\n",
    "                                                   random_state = RANDOM_STATE)\n"
   ]
  },
  {
   "cell_type": "markdown",
   "metadata": {},
   "source": [
    "## Обучение моделей"
   ]
  },
  {
   "cell_type": "markdown",
   "metadata": {},
   "source": [
    "**Признаков в результате работы `tf-idf` станет очень много, поэтому придется поскромничать в переборе моделей и параметров к ним, если не хотим ждать вычислений по несколько часов**"
   ]
  },
  {
   "cell_type": "markdown",
   "metadata": {},
   "source": [
    "### Логистическая регрессия"
   ]
  },
  {
   "cell_type": "markdown",
   "metadata": {},
   "source": [
    "Попробуем модель логистической регрессии. `max_iter` уменьшил до 50, поскольку это не влияло на метрику f1, а вот на время обучения влияло еще как. `class_weight` = 'balanced' поскольку у нас дисбаланс классов. `solver` = saga просто быстрее(проверено за кадром). Будем пробовать разные параметры коэфициента регуляризации `C`"
   ]
  },
  {
   "cell_type": "markdown",
   "metadata": {},
   "source": [
    "%%time\n",
    "warnings.filterwarnings('ignore')\n",
    "model = LogisticRegression(random_state = RANDOM_STATE, max_iter = 50, class_weight = 'balanced', solver = 'saga')\n",
    "param_grid_logreg = {\n",
    "    'C' : range(5 , 35, 3 )\n",
    "}\n",
    "\n",
    "grid_search = GridSearchCV(model, param_grid_logreg, scoring = 'f1', cv = 2, n_jobs = -1)\n",
    "grid_search.fit(tf_idf_train, y_train)"
   ]
  },
  {
   "cell_type": "markdown",
   "metadata": {},
   "source": [
    "pd.DataFrame(grid_search_logreg.cv_results_).sort_values(by = 'rank_test_score')\\\n",
    "[['param_logreg__C', 'mean_test_score', 'rank_test_score', 'mean_fit_time']]"
   ]
  },
  {
   "cell_type": "markdown",
   "metadata": {},
   "source": [
    "**Лучшим на кроссвалидации оказалась модель `C` = 5. Она уложилась в требование технического задания о метрике f1 не меньшей 0.75**"
   ]
  },
  {
   "cell_type": "markdown",
   "metadata": {},
   "source": [
    "### Метод опорных векторов с линейным ядром"
   ]
  },
  {
   "cell_type": "markdown",
   "metadata": {},
   "source": [
    "**(старый код)**\n",
    "\n",
    "%%time\n",
    "from sklearn.svm import LinearSVC\n",
    "svc = LinearSVC(random_state = RANDOM_STATE)\n",
    "param_grid_svc = {\n",
    "    'class_weight' : ['balanced', None],\n",
    "    'C' : range(1, 5)\n",
    "}\n",
    "grid_search_svc = GridSearchCV(svc, param_grid_svc, scoring = 'f1', cv = 2, n_jobs = -1)\n",
    "grid_search_svc.fit(tf_idf_train, y_train)\n",
    "\n",
    "\n"
   ]
  },
  {
   "cell_type": "markdown",
   "metadata": {},
   "source": [
    "pd.DataFrame(grid_search_svc.cv_results_).sort_values(by = 'rank_test_score')\\\n",
    "[['param_svc__C','param_svc__class_weight', 'mean_test_score', 'rank_test_score', 'mean_fit_time']]"
   ]
  },
  {
   "cell_type": "markdown",
   "metadata": {},
   "source": [
    "**Среднее значение метрики f1 на кроссвалидации для SVC с лучшими параметрами почти совпадает с метрикой лучшей модели логистической регрессии. Однако SVC гораздо быстрее**"
   ]
  },
  {
   "cell_type": "markdown",
   "metadata": {},
   "source": [
    "## Большой пайплайн с log_reg и svc"
   ]
  },
  {
   "cell_type": "code",
   "execution_count": 11,
   "metadata": {},
   "outputs": [
    {
     "name": "stdout",
     "output_type": "stream",
     "text": [
      "CPU times: total: 1min 29s\n",
      "Wall time: 8min 20s\n"
     ]
    },
    {
     "data": {
      "text/html": [
       "<style>#sk-container-id-1 {color: black;}#sk-container-id-1 pre{padding: 0;}#sk-container-id-1 div.sk-toggleable {background-color: white;}#sk-container-id-1 label.sk-toggleable__label {cursor: pointer;display: block;width: 100%;margin-bottom: 0;padding: 0.3em;box-sizing: border-box;text-align: center;}#sk-container-id-1 label.sk-toggleable__label-arrow:before {content: \"▸\";float: left;margin-right: 0.25em;color: #696969;}#sk-container-id-1 label.sk-toggleable__label-arrow:hover:before {color: black;}#sk-container-id-1 div.sk-estimator:hover label.sk-toggleable__label-arrow:before {color: black;}#sk-container-id-1 div.sk-toggleable__content {max-height: 0;max-width: 0;overflow: hidden;text-align: left;background-color: #f0f8ff;}#sk-container-id-1 div.sk-toggleable__content pre {margin: 0.2em;color: black;border-radius: 0.25em;background-color: #f0f8ff;}#sk-container-id-1 input.sk-toggleable__control:checked~div.sk-toggleable__content {max-height: 200px;max-width: 100%;overflow: auto;}#sk-container-id-1 input.sk-toggleable__control:checked~label.sk-toggleable__label-arrow:before {content: \"▾\";}#sk-container-id-1 div.sk-estimator input.sk-toggleable__control:checked~label.sk-toggleable__label {background-color: #d4ebff;}#sk-container-id-1 div.sk-label input.sk-toggleable__control:checked~label.sk-toggleable__label {background-color: #d4ebff;}#sk-container-id-1 input.sk-hidden--visually {border: 0;clip: rect(1px 1px 1px 1px);clip: rect(1px, 1px, 1px, 1px);height: 1px;margin: -1px;overflow: hidden;padding: 0;position: absolute;width: 1px;}#sk-container-id-1 div.sk-estimator {font-family: monospace;background-color: #f0f8ff;border: 1px dotted black;border-radius: 0.25em;box-sizing: border-box;margin-bottom: 0.5em;}#sk-container-id-1 div.sk-estimator:hover {background-color: #d4ebff;}#sk-container-id-1 div.sk-parallel-item::after {content: \"\";width: 100%;border-bottom: 1px solid gray;flex-grow: 1;}#sk-container-id-1 div.sk-label:hover label.sk-toggleable__label {background-color: #d4ebff;}#sk-container-id-1 div.sk-serial::before {content: \"\";position: absolute;border-left: 1px solid gray;box-sizing: border-box;top: 0;bottom: 0;left: 50%;z-index: 0;}#sk-container-id-1 div.sk-serial {display: flex;flex-direction: column;align-items: center;background-color: white;padding-right: 0.2em;padding-left: 0.2em;position: relative;}#sk-container-id-1 div.sk-item {position: relative;z-index: 1;}#sk-container-id-1 div.sk-parallel {display: flex;align-items: stretch;justify-content: center;background-color: white;position: relative;}#sk-container-id-1 div.sk-item::before, #sk-container-id-1 div.sk-parallel-item::before {content: \"\";position: absolute;border-left: 1px solid gray;box-sizing: border-box;top: 0;bottom: 0;left: 50%;z-index: -1;}#sk-container-id-1 div.sk-parallel-item {display: flex;flex-direction: column;z-index: 1;position: relative;background-color: white;}#sk-container-id-1 div.sk-parallel-item:first-child::after {align-self: flex-end;width: 50%;}#sk-container-id-1 div.sk-parallel-item:last-child::after {align-self: flex-start;width: 50%;}#sk-container-id-1 div.sk-parallel-item:only-child::after {width: 0;}#sk-container-id-1 div.sk-dashed-wrapped {border: 1px dashed gray;margin: 0 0.4em 0.5em 0.4em;box-sizing: border-box;padding-bottom: 0.4em;background-color: white;}#sk-container-id-1 div.sk-label label {font-family: monospace;font-weight: bold;display: inline-block;line-height: 1.2em;}#sk-container-id-1 div.sk-label-container {text-align: center;}#sk-container-id-1 div.sk-container {/* jupyter's `normalize.less` sets `[hidden] { display: none; }` but bootstrap.min.css set `[hidden] { display: none !important; }` so we also need the `!important` here to be able to override the default hidden behavior on the sphinx rendered scikit-learn.org. See: https://github.com/scikit-learn/scikit-learn/issues/21755 */display: inline-block !important;position: relative;}#sk-container-id-1 div.sk-text-repr-fallback {display: none;}</style><div id=\"sk-container-id-1\" class=\"sk-top-container\"><div class=\"sk-text-repr-fallback\"><pre>GridSearchCV(cv=2,\n",
       "             estimator=Pipeline(steps=[(&#x27;tfidf&#x27;,\n",
       "                                        TfidfVectorizer(stop_words=[&#x27;i&#x27;, &#x27;me&#x27;,\n",
       "                                                                    &#x27;my&#x27;,\n",
       "                                                                    &#x27;myself&#x27;,\n",
       "                                                                    &#x27;we&#x27;, &#x27;our&#x27;,\n",
       "                                                                    &#x27;ours&#x27;,\n",
       "                                                                    &#x27;ourselves&#x27;,\n",
       "                                                                    &#x27;you&#x27;,\n",
       "                                                                    &quot;you&#x27;re&quot;,\n",
       "                                                                    &quot;you&#x27;ve&quot;,\n",
       "                                                                    &quot;you&#x27;ll&quot;,\n",
       "                                                                    &quot;you&#x27;d&quot;,\n",
       "                                                                    &#x27;your&#x27;,\n",
       "                                                                    &#x27;yours&#x27;,\n",
       "                                                                    &#x27;yourself&#x27;,\n",
       "                                                                    &#x27;yourselves&#x27;,\n",
       "                                                                    &#x27;he&#x27;, &#x27;him&#x27;,\n",
       "                                                                    &#x27;his&#x27;,\n",
       "                                                                    &#x27;himself&#x27;,\n",
       "                                                                    &#x27;she&#x27;,\n",
       "                                                                    &quot;she&#x27;s&quot;,\n",
       "                                                                    &#x27;her&#x27;,\n",
       "                                                                    &#x27;hers&#x27;,\n",
       "                                                                    &#x27;herself&#x27;,\n",
       "                                                                    &#x27;it&#x27;,\n",
       "                                                                    &quot;it&#x27;s&quot;,\n",
       "                                                                    &#x27;its&#x27;,\n",
       "                                                                    &#x27;itself&#x27;, ...])),\n",
       "                                       (&#x27;clf&#x27;, LogisticRegression())]),\n",
       "             n_jobs=-1,\n",
       "             param_grid=[{&#x27;clf&#x27;: [LogisticRegression(class_weight=&#x27;balanced&#x27;,\n",
       "                                                     max_iter=50,\n",
       "                                                     random_state=42,\n",
       "                                                     solver=&#x27;saga&#x27;)],\n",
       "                          &#x27;clf__C&#x27;: range(1, 8),\n",
       "                          &#x27;tfidf__ngram_range&#x27;: [(1, 1), (1, 2), (1, 3)]},\n",
       "                         {&#x27;clf&#x27;: [LinearSVC(C=5, class_weight=&#x27;balanced&#x27;,\n",
       "                                            random_state=42)],\n",
       "                          &#x27;clf__C&#x27;: range(1, 8),\n",
       "                          &#x27;tfidf__ngram_range&#x27;: [(1, 1), (1, 2), (1, 3)]}],\n",
       "             scoring=&#x27;f1&#x27;)</pre><b>In a Jupyter environment, please rerun this cell to show the HTML representation or trust the notebook. <br />On GitHub, the HTML representation is unable to render, please try loading this page with nbviewer.org.</b></div><div class=\"sk-container\" hidden><div class=\"sk-item sk-dashed-wrapped\"><div class=\"sk-label-container\"><div class=\"sk-label sk-toggleable\"><input class=\"sk-toggleable__control sk-hidden--visually\" id=\"sk-estimator-id-1\" type=\"checkbox\" ><label for=\"sk-estimator-id-1\" class=\"sk-toggleable__label sk-toggleable__label-arrow\">GridSearchCV</label><div class=\"sk-toggleable__content\"><pre>GridSearchCV(cv=2,\n",
       "             estimator=Pipeline(steps=[(&#x27;tfidf&#x27;,\n",
       "                                        TfidfVectorizer(stop_words=[&#x27;i&#x27;, &#x27;me&#x27;,\n",
       "                                                                    &#x27;my&#x27;,\n",
       "                                                                    &#x27;myself&#x27;,\n",
       "                                                                    &#x27;we&#x27;, &#x27;our&#x27;,\n",
       "                                                                    &#x27;ours&#x27;,\n",
       "                                                                    &#x27;ourselves&#x27;,\n",
       "                                                                    &#x27;you&#x27;,\n",
       "                                                                    &quot;you&#x27;re&quot;,\n",
       "                                                                    &quot;you&#x27;ve&quot;,\n",
       "                                                                    &quot;you&#x27;ll&quot;,\n",
       "                                                                    &quot;you&#x27;d&quot;,\n",
       "                                                                    &#x27;your&#x27;,\n",
       "                                                                    &#x27;yours&#x27;,\n",
       "                                                                    &#x27;yourself&#x27;,\n",
       "                                                                    &#x27;yourselves&#x27;,\n",
       "                                                                    &#x27;he&#x27;, &#x27;him&#x27;,\n",
       "                                                                    &#x27;his&#x27;,\n",
       "                                                                    &#x27;himself&#x27;,\n",
       "                                                                    &#x27;she&#x27;,\n",
       "                                                                    &quot;she&#x27;s&quot;,\n",
       "                                                                    &#x27;her&#x27;,\n",
       "                                                                    &#x27;hers&#x27;,\n",
       "                                                                    &#x27;herself&#x27;,\n",
       "                                                                    &#x27;it&#x27;,\n",
       "                                                                    &quot;it&#x27;s&quot;,\n",
       "                                                                    &#x27;its&#x27;,\n",
       "                                                                    &#x27;itself&#x27;, ...])),\n",
       "                                       (&#x27;clf&#x27;, LogisticRegression())]),\n",
       "             n_jobs=-1,\n",
       "             param_grid=[{&#x27;clf&#x27;: [LogisticRegression(class_weight=&#x27;balanced&#x27;,\n",
       "                                                     max_iter=50,\n",
       "                                                     random_state=42,\n",
       "                                                     solver=&#x27;saga&#x27;)],\n",
       "                          &#x27;clf__C&#x27;: range(1, 8),\n",
       "                          &#x27;tfidf__ngram_range&#x27;: [(1, 1), (1, 2), (1, 3)]},\n",
       "                         {&#x27;clf&#x27;: [LinearSVC(C=5, class_weight=&#x27;balanced&#x27;,\n",
       "                                            random_state=42)],\n",
       "                          &#x27;clf__C&#x27;: range(1, 8),\n",
       "                          &#x27;tfidf__ngram_range&#x27;: [(1, 1), (1, 2), (1, 3)]}],\n",
       "             scoring=&#x27;f1&#x27;)</pre></div></div></div><div class=\"sk-parallel\"><div class=\"sk-parallel-item\"><div class=\"sk-item\"><div class=\"sk-label-container\"><div class=\"sk-label sk-toggleable\"><input class=\"sk-toggleable__control sk-hidden--visually\" id=\"sk-estimator-id-2\" type=\"checkbox\" ><label for=\"sk-estimator-id-2\" class=\"sk-toggleable__label sk-toggleable__label-arrow\">estimator: Pipeline</label><div class=\"sk-toggleable__content\"><pre>Pipeline(steps=[(&#x27;tfidf&#x27;,\n",
       "                 TfidfVectorizer(stop_words=[&#x27;i&#x27;, &#x27;me&#x27;, &#x27;my&#x27;, &#x27;myself&#x27;, &#x27;we&#x27;,\n",
       "                                             &#x27;our&#x27;, &#x27;ours&#x27;, &#x27;ourselves&#x27;, &#x27;you&#x27;,\n",
       "                                             &quot;you&#x27;re&quot;, &quot;you&#x27;ve&quot;, &quot;you&#x27;ll&quot;,\n",
       "                                             &quot;you&#x27;d&quot;, &#x27;your&#x27;, &#x27;yours&#x27;,\n",
       "                                             &#x27;yourself&#x27;, &#x27;yourselves&#x27;, &#x27;he&#x27;,\n",
       "                                             &#x27;him&#x27;, &#x27;his&#x27;, &#x27;himself&#x27;, &#x27;she&#x27;,\n",
       "                                             &quot;she&#x27;s&quot;, &#x27;her&#x27;, &#x27;hers&#x27;, &#x27;herself&#x27;,\n",
       "                                             &#x27;it&#x27;, &quot;it&#x27;s&quot;, &#x27;its&#x27;, &#x27;itself&#x27;, ...])),\n",
       "                (&#x27;clf&#x27;, LogisticRegression())])</pre></div></div></div><div class=\"sk-serial\"><div class=\"sk-item\"><div class=\"sk-serial\"><div class=\"sk-item\"><div class=\"sk-estimator sk-toggleable\"><input class=\"sk-toggleable__control sk-hidden--visually\" id=\"sk-estimator-id-3\" type=\"checkbox\" ><label for=\"sk-estimator-id-3\" class=\"sk-toggleable__label sk-toggleable__label-arrow\">TfidfVectorizer</label><div class=\"sk-toggleable__content\"><pre>TfidfVectorizer(stop_words=[&#x27;i&#x27;, &#x27;me&#x27;, &#x27;my&#x27;, &#x27;myself&#x27;, &#x27;we&#x27;, &#x27;our&#x27;, &#x27;ours&#x27;,\n",
       "                            &#x27;ourselves&#x27;, &#x27;you&#x27;, &quot;you&#x27;re&quot;, &quot;you&#x27;ve&quot;, &quot;you&#x27;ll&quot;,\n",
       "                            &quot;you&#x27;d&quot;, &#x27;your&#x27;, &#x27;yours&#x27;, &#x27;yourself&#x27;, &#x27;yourselves&#x27;,\n",
       "                            &#x27;he&#x27;, &#x27;him&#x27;, &#x27;his&#x27;, &#x27;himself&#x27;, &#x27;she&#x27;, &quot;she&#x27;s&quot;,\n",
       "                            &#x27;her&#x27;, &#x27;hers&#x27;, &#x27;herself&#x27;, &#x27;it&#x27;, &quot;it&#x27;s&quot;, &#x27;its&#x27;,\n",
       "                            &#x27;itself&#x27;, ...])</pre></div></div></div><div class=\"sk-item\"><div class=\"sk-estimator sk-toggleable\"><input class=\"sk-toggleable__control sk-hidden--visually\" id=\"sk-estimator-id-4\" type=\"checkbox\" ><label for=\"sk-estimator-id-4\" class=\"sk-toggleable__label sk-toggleable__label-arrow\">LogisticRegression</label><div class=\"sk-toggleable__content\"><pre>LogisticRegression()</pre></div></div></div></div></div></div></div></div></div></div></div></div>"
      ],
      "text/plain": [
       "GridSearchCV(cv=2,\n",
       "             estimator=Pipeline(steps=[('tfidf',\n",
       "                                        TfidfVectorizer(stop_words=['i', 'me',\n",
       "                                                                    'my',\n",
       "                                                                    'myself',\n",
       "                                                                    'we', 'our',\n",
       "                                                                    'ours',\n",
       "                                                                    'ourselves',\n",
       "                                                                    'you',\n",
       "                                                                    \"you're\",\n",
       "                                                                    \"you've\",\n",
       "                                                                    \"you'll\",\n",
       "                                                                    \"you'd\",\n",
       "                                                                    'your',\n",
       "                                                                    'yours',\n",
       "                                                                    'yourself',\n",
       "                                                                    'yourselves',\n",
       "                                                                    'he', 'him',\n",
       "                                                                    'his',\n",
       "                                                                    'himself',\n",
       "                                                                    'she',\n",
       "                                                                    \"she's\",\n",
       "                                                                    'her',\n",
       "                                                                    'hers',\n",
       "                                                                    'herself',\n",
       "                                                                    'it',\n",
       "                                                                    \"it's\",\n",
       "                                                                    'its',\n",
       "                                                                    'itself', ...])),\n",
       "                                       ('clf', LogisticRegression())]),\n",
       "             n_jobs=-1,\n",
       "             param_grid=[{'clf': [LogisticRegression(class_weight='balanced',\n",
       "                                                     max_iter=50,\n",
       "                                                     random_state=42,\n",
       "                                                     solver='saga')],\n",
       "                          'clf__C': range(1, 8),\n",
       "                          'tfidf__ngram_range': [(1, 1), (1, 2), (1, 3)]},\n",
       "                         {'clf': [LinearSVC(C=5, class_weight='balanced',\n",
       "                                            random_state=42)],\n",
       "                          'clf__C': range(1, 8),\n",
       "                          'tfidf__ngram_range': [(1, 1), (1, 2), (1, 3)]}],\n",
       "             scoring='f1')"
      ]
     },
     "execution_count": 11,
     "metadata": {},
     "output_type": "execute_result"
    }
   ],
   "source": [
    "%%time\n",
    "warnings.filterwarnings('ignore')\n",
    "stopwords = list(nltk_stopwords.words('english'))\n",
    "pipeline = Pipeline([\n",
    "    ('tfidf', TfidfVectorizer(stop_words=stopwords)),\n",
    "    ('clf', LogisticRegression()) \n",
    "])\n",
    "\n",
    "\n",
    "param_grid = [\n",
    "\n",
    "    {\n",
    "        'tfidf__ngram_range': [(1, 1), (1, 2), (1, 3)],  # перебор различных n-gram\n",
    "        'clf': [LogisticRegression(random_state=RANDOM_STATE, class_weight='balanced', solver='saga', max_iter=50)],\n",
    "        'clf__C': range(1, 8)\n",
    "    },\n",
    "\n",
    "    {\n",
    "        'tfidf__ngram_range': [(1, 1), (1, 2), (1, 3)], \n",
    "        'clf': [LinearSVC(random_state=RANDOM_STATE, class_weight = 'balanced')],\n",
    "        'clf__C': range(1, 8)\n",
    "    }\n",
    "]\n",
    "\n",
    "\n",
    "grid_search = GridSearchCV(pipeline, param_grid, scoring='f1', cv=2, n_jobs=-1)\n",
    "grid_search.fit(X_train1, y_train1)"
   ]
  },
  {
   "cell_type": "code",
   "execution_count": 12,
   "metadata": {},
   "outputs": [
    {
     "data": {
      "text/html": [
       "<div>\n",
       "<style scoped>\n",
       "    .dataframe tbody tr th:only-of-type {\n",
       "        vertical-align: middle;\n",
       "    }\n",
       "\n",
       "    .dataframe tbody tr th {\n",
       "        vertical-align: top;\n",
       "    }\n",
       "\n",
       "    .dataframe thead th {\n",
       "        text-align: right;\n",
       "    }\n",
       "</style>\n",
       "<table border=\"1\" class=\"dataframe\">\n",
       "  <thead>\n",
       "    <tr style=\"text-align: right;\">\n",
       "      <th></th>\n",
       "      <th>params</th>\n",
       "      <th>mean_fit_time</th>\n",
       "      <th>mean_score_time</th>\n",
       "      <th>param_clf__C</th>\n",
       "      <th>param_tfidf__ngram_range</th>\n",
       "      <th>mean_test_score</th>\n",
       "      <th>rank_test_score</th>\n",
       "    </tr>\n",
       "  </thead>\n",
       "  <tbody>\n",
       "    <tr>\n",
       "      <th>35</th>\n",
       "      <td>{'clf': LinearSVC(C=5, class_weight='balanced'...</td>\n",
       "      <td>89.238934</td>\n",
       "      <td>13.585536</td>\n",
       "      <td>5</td>\n",
       "      <td>(1, 3)</td>\n",
       "      <td>0.783689</td>\n",
       "      <td>1</td>\n",
       "    </tr>\n",
       "    <tr>\n",
       "      <th>32</th>\n",
       "      <td>{'clf': LinearSVC(C=5, class_weight='balanced'...</td>\n",
       "      <td>78.314994</td>\n",
       "      <td>15.493961</td>\n",
       "      <td>4</td>\n",
       "      <td>(1, 3)</td>\n",
       "      <td>0.783523</td>\n",
       "      <td>2</td>\n",
       "    </tr>\n",
       "    <tr>\n",
       "      <th>29</th>\n",
       "      <td>{'clf': LinearSVC(C=5, class_weight='balanced'...</td>\n",
       "      <td>68.896388</td>\n",
       "      <td>15.396440</td>\n",
       "      <td>3</td>\n",
       "      <td>(1, 3)</td>\n",
       "      <td>0.783497</td>\n",
       "      <td>3</td>\n",
       "    </tr>\n",
       "    <tr>\n",
       "      <th>38</th>\n",
       "      <td>{'clf': LinearSVC(C=5, class_weight='balanced'...</td>\n",
       "      <td>89.279941</td>\n",
       "      <td>9.578645</td>\n",
       "      <td>6</td>\n",
       "      <td>(1, 3)</td>\n",
       "      <td>0.783359</td>\n",
       "      <td>4</td>\n",
       "    </tr>\n",
       "    <tr>\n",
       "      <th>26</th>\n",
       "      <td>{'clf': LinearSVC(C=5, class_weight='balanced'...</td>\n",
       "      <td>57.399822</td>\n",
       "      <td>15.117878</td>\n",
       "      <td>2</td>\n",
       "      <td>(1, 3)</td>\n",
       "      <td>0.783162</td>\n",
       "      <td>5</td>\n",
       "    </tr>\n",
       "    <tr>\n",
       "      <th>23</th>\n",
       "      <td>{'clf': LinearSVC(C=5, class_weight='balanced'...</td>\n",
       "      <td>51.917595</td>\n",
       "      <td>15.341431</td>\n",
       "      <td>1</td>\n",
       "      <td>(1, 3)</td>\n",
       "      <td>0.782928</td>\n",
       "      <td>6</td>\n",
       "    </tr>\n",
       "    <tr>\n",
       "      <th>41</th>\n",
       "      <td>{'clf': LinearSVC(C=5, class_weight='balanced'...</td>\n",
       "      <td>77.263769</td>\n",
       "      <td>7.699720</td>\n",
       "      <td>7</td>\n",
       "      <td>(1, 3)</td>\n",
       "      <td>0.782542</td>\n",
       "      <td>7</td>\n",
       "    </tr>\n",
       "    <tr>\n",
       "      <th>25</th>\n",
       "      <td>{'clf': LinearSVC(C=5, class_weight='balanced'...</td>\n",
       "      <td>34.017100</td>\n",
       "      <td>11.561586</td>\n",
       "      <td>2</td>\n",
       "      <td>(1, 2)</td>\n",
       "      <td>0.782453</td>\n",
       "      <td>8</td>\n",
       "    </tr>\n",
       "    <tr>\n",
       "      <th>22</th>\n",
       "      <td>{'clf': LinearSVC(C=5, class_weight='balanced'...</td>\n",
       "      <td>28.136286</td>\n",
       "      <td>11.009959</td>\n",
       "      <td>1</td>\n",
       "      <td>(1, 2)</td>\n",
       "      <td>0.782063</td>\n",
       "      <td>9</td>\n",
       "    </tr>\n",
       "    <tr>\n",
       "      <th>28</th>\n",
       "      <td>{'clf': LinearSVC(C=5, class_weight='balanced'...</td>\n",
       "      <td>38.743159</td>\n",
       "      <td>11.573081</td>\n",
       "      <td>3</td>\n",
       "      <td>(1, 2)</td>\n",
       "      <td>0.781718</td>\n",
       "      <td>10</td>\n",
       "    </tr>\n",
       "    <tr>\n",
       "      <th>31</th>\n",
       "      <td>{'clf': LinearSVC(C=5, class_weight='balanced'...</td>\n",
       "      <td>46.872967</td>\n",
       "      <td>11.748129</td>\n",
       "      <td>4</td>\n",
       "      <td>(1, 2)</td>\n",
       "      <td>0.781277</td>\n",
       "      <td>11</td>\n",
       "    </tr>\n",
       "    <tr>\n",
       "      <th>34</th>\n",
       "      <td>{'clf': LinearSVC(C=5, class_weight='balanced'...</td>\n",
       "      <td>51.849585</td>\n",
       "      <td>11.540581</td>\n",
       "      <td>5</td>\n",
       "      <td>(1, 2)</td>\n",
       "      <td>0.781246</td>\n",
       "      <td>12</td>\n",
       "    </tr>\n",
       "    <tr>\n",
       "      <th>37</th>\n",
       "      <td>{'clf': LinearSVC(C=5, class_weight='balanced'...</td>\n",
       "      <td>57.338307</td>\n",
       "      <td>10.180278</td>\n",
       "      <td>6</td>\n",
       "      <td>(1, 2)</td>\n",
       "      <td>0.780729</td>\n",
       "      <td>13</td>\n",
       "    </tr>\n",
       "    <tr>\n",
       "      <th>40</th>\n",
       "      <td>{'clf': LinearSVC(C=5, class_weight='balanced'...</td>\n",
       "      <td>60.021402</td>\n",
       "      <td>8.034302</td>\n",
       "      <td>7</td>\n",
       "      <td>(1, 2)</td>\n",
       "      <td>0.780619</td>\n",
       "      <td>14</td>\n",
       "    </tr>\n",
       "    <tr>\n",
       "      <th>19</th>\n",
       "      <td>{'clf': LogisticRegression(class_weight='balan...</td>\n",
       "      <td>48.684376</td>\n",
       "      <td>10.929940</td>\n",
       "      <td>7</td>\n",
       "      <td>(1, 2)</td>\n",
       "      <td>0.776654</td>\n",
       "      <td>15</td>\n",
       "    </tr>\n",
       "    <tr>\n",
       "      <th>16</th>\n",
       "      <td>{'clf': LogisticRegression(class_weight='balan...</td>\n",
       "      <td>49.914648</td>\n",
       "      <td>11.853649</td>\n",
       "      <td>6</td>\n",
       "      <td>(1, 2)</td>\n",
       "      <td>0.775739</td>\n",
       "      <td>16</td>\n",
       "    </tr>\n",
       "    <tr>\n",
       "      <th>13</th>\n",
       "      <td>{'clf': LogisticRegression(class_weight='balan...</td>\n",
       "      <td>46.851469</td>\n",
       "      <td>10.955444</td>\n",
       "      <td>5</td>\n",
       "      <td>(1, 2)</td>\n",
       "      <td>0.773441</td>\n",
       "      <td>17</td>\n",
       "    </tr>\n",
       "    <tr>\n",
       "      <th>10</th>\n",
       "      <td>{'clf': LogisticRegression(class_weight='balan...</td>\n",
       "      <td>46.634415</td>\n",
       "      <td>10.777906</td>\n",
       "      <td>4</td>\n",
       "      <td>(1, 2)</td>\n",
       "      <td>0.770049</td>\n",
       "      <td>18</td>\n",
       "    </tr>\n",
       "    <tr>\n",
       "      <th>20</th>\n",
       "      <td>{'clf': LogisticRegression(class_weight='balan...</td>\n",
       "      <td>77.273765</td>\n",
       "      <td>15.911053</td>\n",
       "      <td>7</td>\n",
       "      <td>(1, 3)</td>\n",
       "      <td>0.768039</td>\n",
       "      <td>19</td>\n",
       "    </tr>\n",
       "    <tr>\n",
       "      <th>17</th>\n",
       "      <td>{'clf': LogisticRegression(class_weight='balan...</td>\n",
       "      <td>80.316439</td>\n",
       "      <td>15.087869</td>\n",
       "      <td>6</td>\n",
       "      <td>(1, 3)</td>\n",
       "      <td>0.766800</td>\n",
       "      <td>20</td>\n",
       "    </tr>\n",
       "    <tr>\n",
       "      <th>6</th>\n",
       "      <td>{'clf': LogisticRegression(class_weight='balan...</td>\n",
       "      <td>13.583033</td>\n",
       "      <td>4.612533</td>\n",
       "      <td>3</td>\n",
       "      <td>(1, 1)</td>\n",
       "      <td>0.766555</td>\n",
       "      <td>21</td>\n",
       "    </tr>\n",
       "    <tr>\n",
       "      <th>12</th>\n",
       "      <td>{'clf': LogisticRegression(class_weight='balan...</td>\n",
       "      <td>13.870096</td>\n",
       "      <td>4.838587</td>\n",
       "      <td>5</td>\n",
       "      <td>(1, 1)</td>\n",
       "      <td>0.765292</td>\n",
       "      <td>22</td>\n",
       "    </tr>\n",
       "    <tr>\n",
       "      <th>7</th>\n",
       "      <td>{'clf': LogisticRegression(class_weight='balan...</td>\n",
       "      <td>51.638031</td>\n",
       "      <td>11.188000</td>\n",
       "      <td>3</td>\n",
       "      <td>(1, 2)</td>\n",
       "      <td>0.765088</td>\n",
       "      <td>23</td>\n",
       "    </tr>\n",
       "    <tr>\n",
       "      <th>9</th>\n",
       "      <td>{'clf': LogisticRegression(class_weight='balan...</td>\n",
       "      <td>14.277688</td>\n",
       "      <td>4.921600</td>\n",
       "      <td>4</td>\n",
       "      <td>(1, 1)</td>\n",
       "      <td>0.764861</td>\n",
       "      <td>24</td>\n",
       "    </tr>\n",
       "    <tr>\n",
       "      <th>3</th>\n",
       "      <td>{'clf': LogisticRegression(class_weight='balan...</td>\n",
       "      <td>12.555524</td>\n",
       "      <td>4.647537</td>\n",
       "      <td>2</td>\n",
       "      <td>(1, 1)</td>\n",
       "      <td>0.764546</td>\n",
       "      <td>25</td>\n",
       "    </tr>\n",
       "    <tr>\n",
       "      <th>14</th>\n",
       "      <td>{'clf': LogisticRegression(class_weight='balan...</td>\n",
       "      <td>82.473425</td>\n",
       "      <td>14.580756</td>\n",
       "      <td>5</td>\n",
       "      <td>(1, 3)</td>\n",
       "      <td>0.763928</td>\n",
       "      <td>26</td>\n",
       "    </tr>\n",
       "    <tr>\n",
       "      <th>15</th>\n",
       "      <td>{'clf': LogisticRegression(class_weight='balan...</td>\n",
       "      <td>12.414773</td>\n",
       "      <td>5.013622</td>\n",
       "      <td>6</td>\n",
       "      <td>(1, 1)</td>\n",
       "      <td>0.762174</td>\n",
       "      <td>27</td>\n",
       "    </tr>\n",
       "    <tr>\n",
       "      <th>11</th>\n",
       "      <td>{'clf': LogisticRegression(class_weight='balan...</td>\n",
       "      <td>79.096166</td>\n",
       "      <td>16.227630</td>\n",
       "      <td>4</td>\n",
       "      <td>(1, 3)</td>\n",
       "      <td>0.760555</td>\n",
       "      <td>28</td>\n",
       "    </tr>\n",
       "    <tr>\n",
       "      <th>18</th>\n",
       "      <td>{'clf': LogisticRegression(class_weight='balan...</td>\n",
       "      <td>16.151105</td>\n",
       "      <td>4.948108</td>\n",
       "      <td>7</td>\n",
       "      <td>(1, 1)</td>\n",
       "      <td>0.759215</td>\n",
       "      <td>29</td>\n",
       "    </tr>\n",
       "    <tr>\n",
       "      <th>21</th>\n",
       "      <td>{'clf': LinearSVC(C=5, class_weight='balanced'...</td>\n",
       "      <td>10.056249</td>\n",
       "      <td>4.904596</td>\n",
       "      <td>1</td>\n",
       "      <td>(1, 1)</td>\n",
       "      <td>0.756295</td>\n",
       "      <td>30</td>\n",
       "    </tr>\n",
       "    <tr>\n",
       "      <th>8</th>\n",
       "      <td>{'clf': LogisticRegression(class_weight='balan...</td>\n",
       "      <td>78.645567</td>\n",
       "      <td>15.134882</td>\n",
       "      <td>3</td>\n",
       "      <td>(1, 3)</td>\n",
       "      <td>0.755410</td>\n",
       "      <td>31</td>\n",
       "    </tr>\n",
       "    <tr>\n",
       "      <th>4</th>\n",
       "      <td>{'clf': LogisticRegression(class_weight='balan...</td>\n",
       "      <td>47.217702</td>\n",
       "      <td>11.235010</td>\n",
       "      <td>2</td>\n",
       "      <td>(1, 2)</td>\n",
       "      <td>0.754080</td>\n",
       "      <td>32</td>\n",
       "    </tr>\n",
       "    <tr>\n",
       "      <th>24</th>\n",
       "      <td>{'clf': LinearSVC(C=5, class_weight='balanced'...</td>\n",
       "      <td>11.988678</td>\n",
       "      <td>5.105139</td>\n",
       "      <td>2</td>\n",
       "      <td>(1, 1)</td>\n",
       "      <td>0.753254</td>\n",
       "      <td>33</td>\n",
       "    </tr>\n",
       "    <tr>\n",
       "      <th>27</th>\n",
       "      <td>{'clf': LinearSVC(C=5, class_weight='balanced'...</td>\n",
       "      <td>12.187224</td>\n",
       "      <td>5.140652</td>\n",
       "      <td>3</td>\n",
       "      <td>(1, 1)</td>\n",
       "      <td>0.749649</td>\n",
       "      <td>34</td>\n",
       "    </tr>\n",
       "    <tr>\n",
       "      <th>30</th>\n",
       "      <td>{'clf': LinearSVC(C=5, class_weight='balanced'...</td>\n",
       "      <td>14.141158</td>\n",
       "      <td>4.873589</td>\n",
       "      <td>4</td>\n",
       "      <td>(1, 1)</td>\n",
       "      <td>0.744914</td>\n",
       "      <td>35</td>\n",
       "    </tr>\n",
       "    <tr>\n",
       "      <th>5</th>\n",
       "      <td>{'clf': LogisticRegression(class_weight='balan...</td>\n",
       "      <td>83.573224</td>\n",
       "      <td>14.858320</td>\n",
       "      <td>2</td>\n",
       "      <td>(1, 3)</td>\n",
       "      <td>0.742351</td>\n",
       "      <td>36</td>\n",
       "    </tr>\n",
       "    <tr>\n",
       "      <th>33</th>\n",
       "      <td>{'clf': LinearSVC(C=5, class_weight='balanced'...</td>\n",
       "      <td>16.599211</td>\n",
       "      <td>4.940105</td>\n",
       "      <td>5</td>\n",
       "      <td>(1, 1)</td>\n",
       "      <td>0.741992</td>\n",
       "      <td>37</td>\n",
       "    </tr>\n",
       "    <tr>\n",
       "      <th>1</th>\n",
       "      <td>{'clf': LogisticRegression(class_weight='balan...</td>\n",
       "      <td>47.102975</td>\n",
       "      <td>11.411053</td>\n",
       "      <td>1</td>\n",
       "      <td>(1, 2)</td>\n",
       "      <td>0.741623</td>\n",
       "      <td>38</td>\n",
       "    </tr>\n",
       "    <tr>\n",
       "      <th>36</th>\n",
       "      <td>{'clf': LinearSVC(C=5, class_weight='balanced'...</td>\n",
       "      <td>20.585097</td>\n",
       "      <td>5.081140</td>\n",
       "      <td>6</td>\n",
       "      <td>(1, 1)</td>\n",
       "      <td>0.741133</td>\n",
       "      <td>39</td>\n",
       "    </tr>\n",
       "    <tr>\n",
       "      <th>39</th>\n",
       "      <td>{'clf': LinearSVC(C=5, class_weight='balanced'...</td>\n",
       "      <td>19.409334</td>\n",
       "      <td>4.725558</td>\n",
       "      <td>7</td>\n",
       "      <td>(1, 1)</td>\n",
       "      <td>0.739871</td>\n",
       "      <td>40</td>\n",
       "    </tr>\n",
       "    <tr>\n",
       "      <th>0</th>\n",
       "      <td>{'clf': LogisticRegression(class_weight='balan...</td>\n",
       "      <td>12.860793</td>\n",
       "      <td>4.530013</td>\n",
       "      <td>1</td>\n",
       "      <td>(1, 1)</td>\n",
       "      <td>0.732944</td>\n",
       "      <td>41</td>\n",
       "    </tr>\n",
       "    <tr>\n",
       "      <th>2</th>\n",
       "      <td>{'clf': LogisticRegression(class_weight='balan...</td>\n",
       "      <td>82.957710</td>\n",
       "      <td>15.172894</td>\n",
       "      <td>1</td>\n",
       "      <td>(1, 3)</td>\n",
       "      <td>0.726772</td>\n",
       "      <td>42</td>\n",
       "    </tr>\n",
       "  </tbody>\n",
       "</table>\n",
       "</div>"
      ],
      "text/plain": [
       "                                               params  mean_fit_time  \\\n",
       "35  {'clf': LinearSVC(C=5, class_weight='balanced'...      89.238934   \n",
       "32  {'clf': LinearSVC(C=5, class_weight='balanced'...      78.314994   \n",
       "29  {'clf': LinearSVC(C=5, class_weight='balanced'...      68.896388   \n",
       "38  {'clf': LinearSVC(C=5, class_weight='balanced'...      89.279941   \n",
       "26  {'clf': LinearSVC(C=5, class_weight='balanced'...      57.399822   \n",
       "23  {'clf': LinearSVC(C=5, class_weight='balanced'...      51.917595   \n",
       "41  {'clf': LinearSVC(C=5, class_weight='balanced'...      77.263769   \n",
       "25  {'clf': LinearSVC(C=5, class_weight='balanced'...      34.017100   \n",
       "22  {'clf': LinearSVC(C=5, class_weight='balanced'...      28.136286   \n",
       "28  {'clf': LinearSVC(C=5, class_weight='balanced'...      38.743159   \n",
       "31  {'clf': LinearSVC(C=5, class_weight='balanced'...      46.872967   \n",
       "34  {'clf': LinearSVC(C=5, class_weight='balanced'...      51.849585   \n",
       "37  {'clf': LinearSVC(C=5, class_weight='balanced'...      57.338307   \n",
       "40  {'clf': LinearSVC(C=5, class_weight='balanced'...      60.021402   \n",
       "19  {'clf': LogisticRegression(class_weight='balan...      48.684376   \n",
       "16  {'clf': LogisticRegression(class_weight='balan...      49.914648   \n",
       "13  {'clf': LogisticRegression(class_weight='balan...      46.851469   \n",
       "10  {'clf': LogisticRegression(class_weight='balan...      46.634415   \n",
       "20  {'clf': LogisticRegression(class_weight='balan...      77.273765   \n",
       "17  {'clf': LogisticRegression(class_weight='balan...      80.316439   \n",
       "6   {'clf': LogisticRegression(class_weight='balan...      13.583033   \n",
       "12  {'clf': LogisticRegression(class_weight='balan...      13.870096   \n",
       "7   {'clf': LogisticRegression(class_weight='balan...      51.638031   \n",
       "9   {'clf': LogisticRegression(class_weight='balan...      14.277688   \n",
       "3   {'clf': LogisticRegression(class_weight='balan...      12.555524   \n",
       "14  {'clf': LogisticRegression(class_weight='balan...      82.473425   \n",
       "15  {'clf': LogisticRegression(class_weight='balan...      12.414773   \n",
       "11  {'clf': LogisticRegression(class_weight='balan...      79.096166   \n",
       "18  {'clf': LogisticRegression(class_weight='balan...      16.151105   \n",
       "21  {'clf': LinearSVC(C=5, class_weight='balanced'...      10.056249   \n",
       "8   {'clf': LogisticRegression(class_weight='balan...      78.645567   \n",
       "4   {'clf': LogisticRegression(class_weight='balan...      47.217702   \n",
       "24  {'clf': LinearSVC(C=5, class_weight='balanced'...      11.988678   \n",
       "27  {'clf': LinearSVC(C=5, class_weight='balanced'...      12.187224   \n",
       "30  {'clf': LinearSVC(C=5, class_weight='balanced'...      14.141158   \n",
       "5   {'clf': LogisticRegression(class_weight='balan...      83.573224   \n",
       "33  {'clf': LinearSVC(C=5, class_weight='balanced'...      16.599211   \n",
       "1   {'clf': LogisticRegression(class_weight='balan...      47.102975   \n",
       "36  {'clf': LinearSVC(C=5, class_weight='balanced'...      20.585097   \n",
       "39  {'clf': LinearSVC(C=5, class_weight='balanced'...      19.409334   \n",
       "0   {'clf': LogisticRegression(class_weight='balan...      12.860793   \n",
       "2   {'clf': LogisticRegression(class_weight='balan...      82.957710   \n",
       "\n",
       "    mean_score_time param_clf__C param_tfidf__ngram_range  mean_test_score  \\\n",
       "35        13.585536            5                   (1, 3)         0.783689   \n",
       "32        15.493961            4                   (1, 3)         0.783523   \n",
       "29        15.396440            3                   (1, 3)         0.783497   \n",
       "38         9.578645            6                   (1, 3)         0.783359   \n",
       "26        15.117878            2                   (1, 3)         0.783162   \n",
       "23        15.341431            1                   (1, 3)         0.782928   \n",
       "41         7.699720            7                   (1, 3)         0.782542   \n",
       "25        11.561586            2                   (1, 2)         0.782453   \n",
       "22        11.009959            1                   (1, 2)         0.782063   \n",
       "28        11.573081            3                   (1, 2)         0.781718   \n",
       "31        11.748129            4                   (1, 2)         0.781277   \n",
       "34        11.540581            5                   (1, 2)         0.781246   \n",
       "37        10.180278            6                   (1, 2)         0.780729   \n",
       "40         8.034302            7                   (1, 2)         0.780619   \n",
       "19        10.929940            7                   (1, 2)         0.776654   \n",
       "16        11.853649            6                   (1, 2)         0.775739   \n",
       "13        10.955444            5                   (1, 2)         0.773441   \n",
       "10        10.777906            4                   (1, 2)         0.770049   \n",
       "20        15.911053            7                   (1, 3)         0.768039   \n",
       "17        15.087869            6                   (1, 3)         0.766800   \n",
       "6          4.612533            3                   (1, 1)         0.766555   \n",
       "12         4.838587            5                   (1, 1)         0.765292   \n",
       "7         11.188000            3                   (1, 2)         0.765088   \n",
       "9          4.921600            4                   (1, 1)         0.764861   \n",
       "3          4.647537            2                   (1, 1)         0.764546   \n",
       "14        14.580756            5                   (1, 3)         0.763928   \n",
       "15         5.013622            6                   (1, 1)         0.762174   \n",
       "11        16.227630            4                   (1, 3)         0.760555   \n",
       "18         4.948108            7                   (1, 1)         0.759215   \n",
       "21         4.904596            1                   (1, 1)         0.756295   \n",
       "8         15.134882            3                   (1, 3)         0.755410   \n",
       "4         11.235010            2                   (1, 2)         0.754080   \n",
       "24         5.105139            2                   (1, 1)         0.753254   \n",
       "27         5.140652            3                   (1, 1)         0.749649   \n",
       "30         4.873589            4                   (1, 1)         0.744914   \n",
       "5         14.858320            2                   (1, 3)         0.742351   \n",
       "33         4.940105            5                   (1, 1)         0.741992   \n",
       "1         11.411053            1                   (1, 2)         0.741623   \n",
       "36         5.081140            6                   (1, 1)         0.741133   \n",
       "39         4.725558            7                   (1, 1)         0.739871   \n",
       "0          4.530013            1                   (1, 1)         0.732944   \n",
       "2         15.172894            1                   (1, 3)         0.726772   \n",
       "\n",
       "    rank_test_score  \n",
       "35                1  \n",
       "32                2  \n",
       "29                3  \n",
       "38                4  \n",
       "26                5  \n",
       "23                6  \n",
       "41                7  \n",
       "25                8  \n",
       "22                9  \n",
       "28               10  \n",
       "31               11  \n",
       "34               12  \n",
       "37               13  \n",
       "40               14  \n",
       "19               15  \n",
       "16               16  \n",
       "13               17  \n",
       "10               18  \n",
       "20               19  \n",
       "17               20  \n",
       "6                21  \n",
       "12               22  \n",
       "7                23  \n",
       "9                24  \n",
       "3                25  \n",
       "14               26  \n",
       "15               27  \n",
       "11               28  \n",
       "18               29  \n",
       "21               30  \n",
       "8                31  \n",
       "4                32  \n",
       "24               33  \n",
       "27               34  \n",
       "30               35  \n",
       "5                36  \n",
       "33               37  \n",
       "1                38  \n",
       "36               39  \n",
       "39               40  \n",
       "0                41  \n",
       "2                42  "
      ]
     },
     "execution_count": 12,
     "metadata": {},
     "output_type": "execute_result"
    }
   ],
   "source": [
    "pd.DataFrame(grid_search.cv_results_).sort_values(by = 'rank_test_score')\\\n",
    "[['params','mean_fit_time', 'mean_score_time', 'param_clf__C', 'param_tfidf__ngram_range', \\\n",
    " 'mean_test_score', 'rank_test_score']].sort_values(by='rank_test_score')"
   ]
  },
  {
   "cell_type": "markdown",
   "metadata": {},
   "source": [
    "**BERT**"
   ]
  },
  {
   "cell_type": "markdown",
   "metadata": {},
   "source": [
    "Возьмем выборку из data_spacy учитывая дисбалансс классов"
   ]
  },
  {
   "cell_type": "code",
   "execution_count": 13,
   "metadata": {},
   "outputs": [
    {
     "data": {
      "text/plain": [
       "toxic\n",
       "0    0.898387\n",
       "1    0.101613\n",
       "Name: proportion, dtype: float64"
      ]
     },
     "execution_count": 13,
     "metadata": {},
     "output_type": "execute_result"
    }
   ],
   "source": [
    "#смотрим соотношение классов\n",
    "proportions = data_spacy['toxic'].value_counts(normalize=True)\n",
    "proportions"
   ]
  },
  {
   "cell_type": "code",
   "execution_count": 14,
   "metadata": {},
   "outputs": [],
   "source": [
    "\n",
    "def sample(sample_size = 200):\n",
    "    sample_sizes = (proportions * sample_size).astype(int)\n",
    "    # Создаем выборку из каждого класса\n",
    "    sampled_df = pd.concat([\n",
    "        data_spacy[data_spacy['toxic'] == 0].sample(n=sample_sizes[0], random_state=RANDOM_STATE),\n",
    "        data_spacy[data_spacy['toxic'] == 1].sample(n=sample_sizes[1], random_state=RANDOM_STATE)\n",
    "    ])\n",
    "    return sampled_df\n",
    "\n"
   ]
  },
  {
   "cell_type": "code",
   "execution_count": 15,
   "metadata": {},
   "outputs": [
    {
     "data": {
      "text/plain": [
       "toxic\n",
       "0    0.8984\n",
       "1    0.1016\n",
       "Name: proportion, dtype: float64"
      ]
     },
     "execution_count": 15,
     "metadata": {},
     "output_type": "execute_result"
    }
   ],
   "source": [
    "sampled_data = sample(5001)\n",
    "sampled_data['toxic'].value_counts(normalize = True)"
   ]
  },
  {
   "cell_type": "code",
   "execution_count": 16,
   "metadata": {},
   "outputs": [
    {
     "data": {
      "text/html": [
       "<div>\n",
       "<style scoped>\n",
       "    .dataframe tbody tr th:only-of-type {\n",
       "        vertical-align: middle;\n",
       "    }\n",
       "\n",
       "    .dataframe tbody tr th {\n",
       "        vertical-align: top;\n",
       "    }\n",
       "\n",
       "    .dataframe thead th {\n",
       "        text-align: right;\n",
       "    }\n",
       "</style>\n",
       "<table border=\"1\" class=\"dataframe\">\n",
       "  <thead>\n",
       "    <tr style=\"text-align: right;\">\n",
       "      <th></th>\n",
       "      <th>toxic</th>\n",
       "      <th>spacy_lemm</th>\n",
       "    </tr>\n",
       "  </thead>\n",
       "  <tbody>\n",
       "    <tr>\n",
       "      <th>116249</th>\n",
       "      <td>0</td>\n",
       "      <td>ok add thank talk</td>\n",
       "    </tr>\n",
       "    <tr>\n",
       "      <th>144453</th>\n",
       "      <td>0</td>\n",
       "      <td>hello marilee and welcome to wikipedia here be...</td>\n",
       "    </tr>\n",
       "    <tr>\n",
       "      <th>145468</th>\n",
       "      <td>0</td>\n",
       "      <td>alan king filmmaker i redirect alan king filmm...</td>\n",
       "    </tr>\n",
       "    <tr>\n",
       "      <th>62256</th>\n",
       "      <td>0</td>\n",
       "      <td>i m play around with use a timeline box like t...</td>\n",
       "    </tr>\n",
       "    <tr>\n",
       "      <th>32710</th>\n",
       "      <td>0</td>\n",
       "      <td>happy new year n e happy new year hello n e th...</td>\n",
       "    </tr>\n",
       "    <tr>\n",
       "      <th>...</th>\n",
       "      <td>...</td>\n",
       "      <td>...</td>\n",
       "    </tr>\n",
       "    <tr>\n",
       "      <th>104736</th>\n",
       "      <td>1</td>\n",
       "      <td>u think edit our comment will make we go away ...</td>\n",
       "    </tr>\n",
       "    <tr>\n",
       "      <th>97494</th>\n",
       "      <td>1</td>\n",
       "      <td>judge the book dude i hesitate to call attenti...</td>\n",
       "    </tr>\n",
       "    <tr>\n",
       "      <th>142790</th>\n",
       "      <td>1</td>\n",
       "      <td>also good use of fuck as you note it s well to...</td>\n",
       "    </tr>\n",
       "    <tr>\n",
       "      <th>53981</th>\n",
       "      <td>1</td>\n",
       "      <td>if you ll forgive my pedantry npa mean no pers...</td>\n",
       "    </tr>\n",
       "    <tr>\n",
       "      <th>91816</th>\n",
       "      <td>1</td>\n",
       "      <td>what a freak holy crap yo have you see some of...</td>\n",
       "    </tr>\n",
       "  </tbody>\n",
       "</table>\n",
       "<p>5000 rows × 2 columns</p>\n",
       "</div>"
      ],
      "text/plain": [
       "        toxic                                         spacy_lemm\n",
       "116249      0                                  ok add thank talk\n",
       "144453      0  hello marilee and welcome to wikipedia here be...\n",
       "145468      0  alan king filmmaker i redirect alan king filmm...\n",
       "62256       0  i m play around with use a timeline box like t...\n",
       "32710       0  happy new year n e happy new year hello n e th...\n",
       "...       ...                                                ...\n",
       "104736      1  u think edit our comment will make we go away ...\n",
       "97494       1  judge the book dude i hesitate to call attenti...\n",
       "142790      1  also good use of fuck as you note it s well to...\n",
       "53981       1  if you ll forgive my pedantry npa mean no pers...\n",
       "91816       1  what a freak holy crap yo have you see some of...\n",
       "\n",
       "[5000 rows x 2 columns]"
      ]
     },
     "execution_count": 16,
     "metadata": {},
     "output_type": "execute_result"
    }
   ],
   "source": [
    "sampled_data"
   ]
  },
  {
   "cell_type": "markdown",
   "metadata": {},
   "source": [
    "Баланс классов сохранили)"
   ]
  },
  {
   "cell_type": "markdown",
   "metadata": {},
   "source": [
    "pip install transformers torch -q"
   ]
  },
  {
   "cell_type": "code",
   "execution_count": 17,
   "metadata": {},
   "outputs": [
    {
     "data": {
      "application/vnd.jupyter.widget-view+json": {
       "model_id": "9fafb83fbc9c4537ac81823aebb91b11",
       "version_major": 2,
       "version_minor": 0
      },
      "text/plain": [
       "Downloading tokenizer_config.json:   0%|          | 0.00/174 [00:00<?, ?B/s]"
      ]
     },
     "metadata": {},
     "output_type": "display_data"
    },
    {
     "data": {
      "application/vnd.jupyter.widget-view+json": {
       "model_id": "78d2e1c60d574d3d95bc977856cde354",
       "version_major": 2,
       "version_minor": 0
      },
      "text/plain": [
       "Downloading config.json:   0%|          | 0.00/811 [00:00<?, ?B/s]"
      ]
     },
     "metadata": {},
     "output_type": "display_data"
    },
    {
     "data": {
      "application/vnd.jupyter.widget-view+json": {
       "model_id": "c271225f45644843b237433a82122df5",
       "version_major": 2,
       "version_minor": 0
      },
      "text/plain": [
       "Downloading vocab.txt:   0%|          | 0.00/232k [00:00<?, ?B/s]"
      ]
     },
     "metadata": {},
     "output_type": "display_data"
    },
    {
     "data": {
      "application/vnd.jupyter.widget-view+json": {
       "model_id": "118a5502e1104fe38a42a2f250dc1e5b",
       "version_major": 2,
       "version_minor": 0
      },
      "text/plain": [
       "Downloading (…)cial_tokens_map.json:   0%|          | 0.00/112 [00:00<?, ?B/s]"
      ]
     },
     "metadata": {},
     "output_type": "display_data"
    },
    {
     "data": {
      "application/vnd.jupyter.widget-view+json": {
       "model_id": "8051e095ad1c442e99783169fc3edb03",
       "version_major": 2,
       "version_minor": 0
      },
      "text/plain": [
       "Downloading model.safetensors:   0%|          | 0.00/438M [00:00<?, ?B/s]"
      ]
     },
     "metadata": {},
     "output_type": "display_data"
    },
    {
     "data": {
      "application/vnd.jupyter.widget-view+json": {
       "model_id": "1f2706d5ff264bd8aa2fea2a31a02c0b",
       "version_major": 2,
       "version_minor": 0
      },
      "text/plain": [
       "  0%|          | 0/50 [00:00<?, ?it/s]"
      ]
     },
     "metadata": {},
     "output_type": "display_data"
    }
   ],
   "source": [
    "# Загрузка англоязычного токенизатора BERT\n",
    "\n",
    "tokenizer = transformers.AutoTokenizer.from_pretrained('unitary/toxic-bert')\n",
    "\n",
    "# Токенизация текста\n",
    "tokenized = sampled_data['spacy_lemm'].apply(\n",
    "    lambda x: tokenizer.encode(x, add_special_tokens=True, max_length=512, truncation=True)\n",
    ")\n",
    "\n",
    "# Нахождение максимальной длины токенов\n",
    "max_len = max([len(i) for i in tokenized.values])\n",
    "\n",
    "# Дополнение последовательностей до максимальной длины\n",
    "padded = np.array([i + [0]*(max_len - len(i)) for i in tokenized.values])\n",
    "\n",
    "# Создание attention mask (1 для токенов, 0 для паддинга)\n",
    "attention_mask = np.where(padded != 0, 1, 0)\n",
    "\n",
    "# Загрузка англоязычной модели BERT\n",
    "model = transformers.AutoModel.from_pretrained('unitary/toxic-bert')\n",
    "\n",
    "# Задаем размер батча\n",
    "batch_size = 100\n",
    "embeddings = []\n",
    "\n",
    "# Генерация эмбеддингов для батчей\n",
    "for i in notebook.tqdm(range(padded.shape[0] // batch_size)):\n",
    "    batch = torch.LongTensor(padded[batch_size*i:batch_size*(i+1)])\n",
    "    attention_mask_batch = torch.LongTensor(attention_mask[batch_size*i:batch_size*(i+1)])\n",
    "    \n",
    "    # Отключаем вычисление градиентов, так как они не нужны для получения эмбеддингов\n",
    "    with torch.no_grad():\n",
    "        batch_embeddings = model(batch, attention_mask=attention_mask_batch)\n",
    "    \n",
    "    # Извлечение эмбеддингов для [CLS] токена (первый токен)\n",
    "    embeddings.append(batch_embeddings.last_hidden_state[:, 0, :].numpy())\n",
    "\n",
    "# Объединение эмбеддингов всех батчей в один массив\n",
    "features = np.concatenate(embeddings)"
   ]
  },
  {
   "cell_type": "code",
   "execution_count": 18,
   "metadata": {},
   "outputs": [
    {
     "data": {
      "text/plain": [
       "(5000, 768)"
      ]
     },
     "execution_count": 18,
     "metadata": {},
     "output_type": "execute_result"
    }
   ],
   "source": [
    "features.shape"
   ]
  },
  {
   "cell_type": "code",
   "execution_count": 19,
   "metadata": {},
   "outputs": [
    {
     "name": "stdout",
     "output_type": "stream",
     "text": [
      "CPU times: total: 1.77 s\n",
      "Wall time: 7.77 s\n"
     ]
    },
    {
     "data": {
      "text/html": [
       "<style>#sk-container-id-2 {color: black;}#sk-container-id-2 pre{padding: 0;}#sk-container-id-2 div.sk-toggleable {background-color: white;}#sk-container-id-2 label.sk-toggleable__label {cursor: pointer;display: block;width: 100%;margin-bottom: 0;padding: 0.3em;box-sizing: border-box;text-align: center;}#sk-container-id-2 label.sk-toggleable__label-arrow:before {content: \"▸\";float: left;margin-right: 0.25em;color: #696969;}#sk-container-id-2 label.sk-toggleable__label-arrow:hover:before {color: black;}#sk-container-id-2 div.sk-estimator:hover label.sk-toggleable__label-arrow:before {color: black;}#sk-container-id-2 div.sk-toggleable__content {max-height: 0;max-width: 0;overflow: hidden;text-align: left;background-color: #f0f8ff;}#sk-container-id-2 div.sk-toggleable__content pre {margin: 0.2em;color: black;border-radius: 0.25em;background-color: #f0f8ff;}#sk-container-id-2 input.sk-toggleable__control:checked~div.sk-toggleable__content {max-height: 200px;max-width: 100%;overflow: auto;}#sk-container-id-2 input.sk-toggleable__control:checked~label.sk-toggleable__label-arrow:before {content: \"▾\";}#sk-container-id-2 div.sk-estimator input.sk-toggleable__control:checked~label.sk-toggleable__label {background-color: #d4ebff;}#sk-container-id-2 div.sk-label input.sk-toggleable__control:checked~label.sk-toggleable__label {background-color: #d4ebff;}#sk-container-id-2 input.sk-hidden--visually {border: 0;clip: rect(1px 1px 1px 1px);clip: rect(1px, 1px, 1px, 1px);height: 1px;margin: -1px;overflow: hidden;padding: 0;position: absolute;width: 1px;}#sk-container-id-2 div.sk-estimator {font-family: monospace;background-color: #f0f8ff;border: 1px dotted black;border-radius: 0.25em;box-sizing: border-box;margin-bottom: 0.5em;}#sk-container-id-2 div.sk-estimator:hover {background-color: #d4ebff;}#sk-container-id-2 div.sk-parallel-item::after {content: \"\";width: 100%;border-bottom: 1px solid gray;flex-grow: 1;}#sk-container-id-2 div.sk-label:hover label.sk-toggleable__label {background-color: #d4ebff;}#sk-container-id-2 div.sk-serial::before {content: \"\";position: absolute;border-left: 1px solid gray;box-sizing: border-box;top: 0;bottom: 0;left: 50%;z-index: 0;}#sk-container-id-2 div.sk-serial {display: flex;flex-direction: column;align-items: center;background-color: white;padding-right: 0.2em;padding-left: 0.2em;position: relative;}#sk-container-id-2 div.sk-item {position: relative;z-index: 1;}#sk-container-id-2 div.sk-parallel {display: flex;align-items: stretch;justify-content: center;background-color: white;position: relative;}#sk-container-id-2 div.sk-item::before, #sk-container-id-2 div.sk-parallel-item::before {content: \"\";position: absolute;border-left: 1px solid gray;box-sizing: border-box;top: 0;bottom: 0;left: 50%;z-index: -1;}#sk-container-id-2 div.sk-parallel-item {display: flex;flex-direction: column;z-index: 1;position: relative;background-color: white;}#sk-container-id-2 div.sk-parallel-item:first-child::after {align-self: flex-end;width: 50%;}#sk-container-id-2 div.sk-parallel-item:last-child::after {align-self: flex-start;width: 50%;}#sk-container-id-2 div.sk-parallel-item:only-child::after {width: 0;}#sk-container-id-2 div.sk-dashed-wrapped {border: 1px dashed gray;margin: 0 0.4em 0.5em 0.4em;box-sizing: border-box;padding-bottom: 0.4em;background-color: white;}#sk-container-id-2 div.sk-label label {font-family: monospace;font-weight: bold;display: inline-block;line-height: 1.2em;}#sk-container-id-2 div.sk-label-container {text-align: center;}#sk-container-id-2 div.sk-container {/* jupyter's `normalize.less` sets `[hidden] { display: none; }` but bootstrap.min.css set `[hidden] { display: none !important; }` so we also need the `!important` here to be able to override the default hidden behavior on the sphinx rendered scikit-learn.org. See: https://github.com/scikit-learn/scikit-learn/issues/21755 */display: inline-block !important;position: relative;}#sk-container-id-2 div.sk-text-repr-fallback {display: none;}</style><div id=\"sk-container-id-2\" class=\"sk-top-container\"><div class=\"sk-text-repr-fallback\"><pre>GridSearchCV(cv=2, estimator=Pipeline(steps=[(&#x27;clf&#x27;, LogisticRegression())]),\n",
       "             n_jobs=-1,\n",
       "             param_grid=[{&#x27;clf&#x27;: [LogisticRegression(C=5,\n",
       "                                                     class_weight=&#x27;balanced&#x27;,\n",
       "                                                     max_iter=50,\n",
       "                                                     random_state=42,\n",
       "                                                     solver=&#x27;saga&#x27;)],\n",
       "                          &#x27;clf__C&#x27;: range(1, 8)},\n",
       "                         {&#x27;clf&#x27;: [LinearSVC(class_weight=&#x27;balanced&#x27;,\n",
       "                                            random_state=42)],\n",
       "                          &#x27;clf__C&#x27;: range(1, 8)}],\n",
       "             scoring=&#x27;f1&#x27;)</pre><b>In a Jupyter environment, please rerun this cell to show the HTML representation or trust the notebook. <br />On GitHub, the HTML representation is unable to render, please try loading this page with nbviewer.org.</b></div><div class=\"sk-container\" hidden><div class=\"sk-item sk-dashed-wrapped\"><div class=\"sk-label-container\"><div class=\"sk-label sk-toggleable\"><input class=\"sk-toggleable__control sk-hidden--visually\" id=\"sk-estimator-id-5\" type=\"checkbox\" ><label for=\"sk-estimator-id-5\" class=\"sk-toggleable__label sk-toggleable__label-arrow\">GridSearchCV</label><div class=\"sk-toggleable__content\"><pre>GridSearchCV(cv=2, estimator=Pipeline(steps=[(&#x27;clf&#x27;, LogisticRegression())]),\n",
       "             n_jobs=-1,\n",
       "             param_grid=[{&#x27;clf&#x27;: [LogisticRegression(C=5,\n",
       "                                                     class_weight=&#x27;balanced&#x27;,\n",
       "                                                     max_iter=50,\n",
       "                                                     random_state=42,\n",
       "                                                     solver=&#x27;saga&#x27;)],\n",
       "                          &#x27;clf__C&#x27;: range(1, 8)},\n",
       "                         {&#x27;clf&#x27;: [LinearSVC(class_weight=&#x27;balanced&#x27;,\n",
       "                                            random_state=42)],\n",
       "                          &#x27;clf__C&#x27;: range(1, 8)}],\n",
       "             scoring=&#x27;f1&#x27;)</pre></div></div></div><div class=\"sk-parallel\"><div class=\"sk-parallel-item\"><div class=\"sk-item\"><div class=\"sk-label-container\"><div class=\"sk-label sk-toggleable\"><input class=\"sk-toggleable__control sk-hidden--visually\" id=\"sk-estimator-id-6\" type=\"checkbox\" ><label for=\"sk-estimator-id-6\" class=\"sk-toggleable__label sk-toggleable__label-arrow\">estimator: Pipeline</label><div class=\"sk-toggleable__content\"><pre>Pipeline(steps=[(&#x27;clf&#x27;, LogisticRegression())])</pre></div></div></div><div class=\"sk-serial\"><div class=\"sk-item\"><div class=\"sk-serial\"><div class=\"sk-item\"><div class=\"sk-estimator sk-toggleable\"><input class=\"sk-toggleable__control sk-hidden--visually\" id=\"sk-estimator-id-7\" type=\"checkbox\" ><label for=\"sk-estimator-id-7\" class=\"sk-toggleable__label sk-toggleable__label-arrow\">LogisticRegression</label><div class=\"sk-toggleable__content\"><pre>LogisticRegression()</pre></div></div></div></div></div></div></div></div></div></div></div></div>"
      ],
      "text/plain": [
       "GridSearchCV(cv=2, estimator=Pipeline(steps=[('clf', LogisticRegression())]),\n",
       "             n_jobs=-1,\n",
       "             param_grid=[{'clf': [LogisticRegression(C=5,\n",
       "                                                     class_weight='balanced',\n",
       "                                                     max_iter=50,\n",
       "                                                     random_state=42,\n",
       "                                                     solver='saga')],\n",
       "                          'clf__C': range(1, 8)},\n",
       "                         {'clf': [LinearSVC(class_weight='balanced',\n",
       "                                            random_state=42)],\n",
       "                          'clf__C': range(1, 8)}],\n",
       "             scoring='f1')"
      ]
     },
     "execution_count": 19,
     "metadata": {},
     "output_type": "execute_result"
    }
   ],
   "source": [
    "%%time\n",
    "\n",
    "# обучите и протестируйте модель\n",
    "# < напишите код здесь >\n",
    "X = features\n",
    "y = sampled_data['toxic']\n",
    "X_train, X_test, y_train, y_test = train_test_split(X, y, test_size = 0.25, random_state = 42)\n",
    "\n",
    "pipeline_bert = Pipeline([\n",
    "    ('clf', LogisticRegression()) \n",
    "])\n",
    "\n",
    "\n",
    "param_grid_bert = [\n",
    "\n",
    "    {\n",
    "        'clf': [LogisticRegression(random_state=RANDOM_STATE, class_weight='balanced', solver='saga', max_iter=50)],\n",
    "        'clf__C': range(1, 8)\n",
    "    },\n",
    "\n",
    "    {\n",
    "        'clf': [LinearSVC(random_state=RANDOM_STATE, class_weight = 'balanced')],\n",
    "        'clf__C': range(1, 8)\n",
    "    }\n",
    "]\n",
    "\n",
    "\n",
    "grid_search_bert = GridSearchCV(pipeline_bert, param_grid_bert, scoring='f1', cv=2, n_jobs=-1)\n",
    "grid_search_bert.fit(X_train, y_train)\n"
   ]
  },
  {
   "cell_type": "code",
   "execution_count": 24,
   "metadata": {},
   "outputs": [
    {
     "data": {
      "text/html": [
       "<div>\n",
       "<style scoped>\n",
       "    .dataframe tbody tr th:only-of-type {\n",
       "        vertical-align: middle;\n",
       "    }\n",
       "\n",
       "    .dataframe tbody tr th {\n",
       "        vertical-align: top;\n",
       "    }\n",
       "\n",
       "    .dataframe thead th {\n",
       "        text-align: right;\n",
       "    }\n",
       "</style>\n",
       "<table border=\"1\" class=\"dataframe\">\n",
       "  <thead>\n",
       "    <tr style=\"text-align: right;\">\n",
       "      <th></th>\n",
       "      <th>mean_fit_time</th>\n",
       "      <th>params</th>\n",
       "      <th>param_clf__C</th>\n",
       "      <th>mean_test_score</th>\n",
       "      <th>rank_test_score</th>\n",
       "    </tr>\n",
       "  </thead>\n",
       "  <tbody>\n",
       "    <tr>\n",
       "      <th>4</th>\n",
       "      <td>1.211266</td>\n",
       "      <td>{'clf': LogisticRegression(C=5, class_weight='...</td>\n",
       "      <td>5</td>\n",
       "      <td>0.873927</td>\n",
       "      <td>1</td>\n",
       "    </tr>\n",
       "    <tr>\n",
       "      <th>5</th>\n",
       "      <td>1.194760</td>\n",
       "      <td>{'clf': LogisticRegression(C=5, class_weight='...</td>\n",
       "      <td>6</td>\n",
       "      <td>0.873927</td>\n",
       "      <td>1</td>\n",
       "    </tr>\n",
       "    <tr>\n",
       "      <th>6</th>\n",
       "      <td>1.094745</td>\n",
       "      <td>{'clf': LogisticRegression(C=5, class_weight='...</td>\n",
       "      <td>7</td>\n",
       "      <td>0.873927</td>\n",
       "      <td>1</td>\n",
       "    </tr>\n",
       "    <tr>\n",
       "      <th>0</th>\n",
       "      <td>1.197266</td>\n",
       "      <td>{'clf': LogisticRegression(C=5, class_weight='...</td>\n",
       "      <td>1</td>\n",
       "      <td>0.873447</td>\n",
       "      <td>4</td>\n",
       "    </tr>\n",
       "    <tr>\n",
       "      <th>2</th>\n",
       "      <td>1.198764</td>\n",
       "      <td>{'clf': LogisticRegression(C=5, class_weight='...</td>\n",
       "      <td>3</td>\n",
       "      <td>0.873098</td>\n",
       "      <td>5</td>\n",
       "    </tr>\n",
       "    <tr>\n",
       "      <th>3</th>\n",
       "      <td>1.212270</td>\n",
       "      <td>{'clf': LogisticRegression(C=5, class_weight='...</td>\n",
       "      <td>4</td>\n",
       "      <td>0.872819</td>\n",
       "      <td>6</td>\n",
       "    </tr>\n",
       "    <tr>\n",
       "      <th>1</th>\n",
       "      <td>1.199767</td>\n",
       "      <td>{'clf': LogisticRegression(C=5, class_weight='...</td>\n",
       "      <td>2</td>\n",
       "      <td>0.872001</td>\n",
       "      <td>7</td>\n",
       "    </tr>\n",
       "    <tr>\n",
       "      <th>10</th>\n",
       "      <td>0.658648</td>\n",
       "      <td>{'clf': LinearSVC(class_weight='balanced', ran...</td>\n",
       "      <td>4</td>\n",
       "      <td>0.866263</td>\n",
       "      <td>8</td>\n",
       "    </tr>\n",
       "    <tr>\n",
       "      <th>8</th>\n",
       "      <td>0.625138</td>\n",
       "      <td>{'clf': LinearSVC(class_weight='balanced', ran...</td>\n",
       "      <td>2</td>\n",
       "      <td>0.865102</td>\n",
       "      <td>9</td>\n",
       "    </tr>\n",
       "    <tr>\n",
       "      <th>11</th>\n",
       "      <td>0.611636</td>\n",
       "      <td>{'clf': LinearSVC(class_weight='balanced', ran...</td>\n",
       "      <td>5</td>\n",
       "      <td>0.864640</td>\n",
       "      <td>10</td>\n",
       "    </tr>\n",
       "    <tr>\n",
       "      <th>12</th>\n",
       "      <td>0.384089</td>\n",
       "      <td>{'clf': LinearSVC(class_weight='balanced', ran...</td>\n",
       "      <td>6</td>\n",
       "      <td>0.864640</td>\n",
       "      <td>10</td>\n",
       "    </tr>\n",
       "    <tr>\n",
       "      <th>13</th>\n",
       "      <td>0.350082</td>\n",
       "      <td>{'clf': LinearSVC(class_weight='balanced', ran...</td>\n",
       "      <td>7</td>\n",
       "      <td>0.864640</td>\n",
       "      <td>10</td>\n",
       "    </tr>\n",
       "    <tr>\n",
       "      <th>7</th>\n",
       "      <td>0.681650</td>\n",
       "      <td>{'clf': LinearSVC(class_weight='balanced', ran...</td>\n",
       "      <td>1</td>\n",
       "      <td>0.863021</td>\n",
       "      <td>13</td>\n",
       "    </tr>\n",
       "    <tr>\n",
       "      <th>9</th>\n",
       "      <td>0.655645</td>\n",
       "      <td>{'clf': LinearSVC(class_weight='balanced', ran...</td>\n",
       "      <td>3</td>\n",
       "      <td>0.862152</td>\n",
       "      <td>14</td>\n",
       "    </tr>\n",
       "  </tbody>\n",
       "</table>\n",
       "</div>"
      ],
      "text/plain": [
       "    mean_fit_time                                             params  \\\n",
       "4        1.211266  {'clf': LogisticRegression(C=5, class_weight='...   \n",
       "5        1.194760  {'clf': LogisticRegression(C=5, class_weight='...   \n",
       "6        1.094745  {'clf': LogisticRegression(C=5, class_weight='...   \n",
       "0        1.197266  {'clf': LogisticRegression(C=5, class_weight='...   \n",
       "2        1.198764  {'clf': LogisticRegression(C=5, class_weight='...   \n",
       "3        1.212270  {'clf': LogisticRegression(C=5, class_weight='...   \n",
       "1        1.199767  {'clf': LogisticRegression(C=5, class_weight='...   \n",
       "10       0.658648  {'clf': LinearSVC(class_weight='balanced', ran...   \n",
       "8        0.625138  {'clf': LinearSVC(class_weight='balanced', ran...   \n",
       "11       0.611636  {'clf': LinearSVC(class_weight='balanced', ran...   \n",
       "12       0.384089  {'clf': LinearSVC(class_weight='balanced', ran...   \n",
       "13       0.350082  {'clf': LinearSVC(class_weight='balanced', ran...   \n",
       "7        0.681650  {'clf': LinearSVC(class_weight='balanced', ran...   \n",
       "9        0.655645  {'clf': LinearSVC(class_weight='balanced', ran...   \n",
       "\n",
       "   param_clf__C  mean_test_score  rank_test_score  \n",
       "4             5         0.873927                1  \n",
       "5             6         0.873927                1  \n",
       "6             7         0.873927                1  \n",
       "0             1         0.873447                4  \n",
       "2             3         0.873098                5  \n",
       "3             4         0.872819                6  \n",
       "1             2         0.872001                7  \n",
       "10            4         0.866263                8  \n",
       "8             2         0.865102                9  \n",
       "11            5         0.864640               10  \n",
       "12            6         0.864640               10  \n",
       "13            7         0.864640               10  \n",
       "7             1         0.863021               13  \n",
       "9             3         0.862152               14  "
      ]
     },
     "execution_count": 24,
     "metadata": {},
     "output_type": "execute_result"
    }
   ],
   "source": [
    "\n",
    "pd.DataFrame(grid_search_bert.cv_results_).sort_values(by = 'rank_test_score')\\\n",
    "[['mean_fit_time', 'params', 'param_clf__C','mean_test_score','rank_test_score']]"
   ]
  },
  {
   "cell_type": "markdown",
   "metadata": {},
   "source": [
    "### Проверка лучшей модели на тестовой выборке"
   ]
  },
  {
   "cell_type": "markdown",
   "metadata": {},
   "source": [
    "В качестве лучшей предлагается модель метод опорных векторов с линеным ядром LinearSVC. Значение метрики f1 у нее соответсвует тз, а время обучения выше, чем у логистической регресии и тем боле XGB"
   ]
  },
  {
   "cell_type": "code",
   "execution_count": 25,
   "metadata": {},
   "outputs": [
    {
     "data": {
      "text/html": [
       "<div>\n",
       "<style scoped>\n",
       "    .dataframe tbody tr th:only-of-type {\n",
       "        vertical-align: middle;\n",
       "    }\n",
       "\n",
       "    .dataframe tbody tr th {\n",
       "        vertical-align: top;\n",
       "    }\n",
       "\n",
       "    .dataframe thead th {\n",
       "        text-align: right;\n",
       "    }\n",
       "</style>\n",
       "<table border=\"1\" class=\"dataframe\">\n",
       "  <thead>\n",
       "    <tr style=\"text-align: right;\">\n",
       "      <th></th>\n",
       "      <th>model</th>\n",
       "      <th>f1_cv</th>\n",
       "      <th>mean_fit_time_sec</th>\n",
       "    </tr>\n",
       "  </thead>\n",
       "  <tbody>\n",
       "    <tr>\n",
       "      <th>0</th>\n",
       "      <td>log_reg</td>\n",
       "      <td>0.7766</td>\n",
       "      <td>48.2000</td>\n",
       "    </tr>\n",
       "    <tr>\n",
       "      <th>1</th>\n",
       "      <td>svc_linear</td>\n",
       "      <td>0.7836</td>\n",
       "      <td>89.1500</td>\n",
       "    </tr>\n",
       "    <tr>\n",
       "      <th>2</th>\n",
       "      <td>log_reg_bert</td>\n",
       "      <td>0.8739</td>\n",
       "      <td>1.2112</td>\n",
       "    </tr>\n",
       "  </tbody>\n",
       "</table>\n",
       "</div>"
      ],
      "text/plain": [
       "          model   f1_cv  mean_fit_time_sec\n",
       "0       log_reg  0.7766            48.2000\n",
       "1    svc_linear  0.7836            89.1500\n",
       "2  log_reg_bert  0.8739             1.2112"
      ]
     },
     "execution_count": 25,
     "metadata": {},
     "output_type": "execute_result"
    }
   ],
   "source": [
    "compare = pd.DataFrame({\n",
    "    'model' : ['log_reg', 'svc_linear' , 'log_reg_bert'],\n",
    "    'f1_cv' : [0.7766, 0.7836, 0.8739], \n",
    "    'mean_fit_time_sec' : [48.20, 89.15, 1.2112]\n",
    "})\n",
    "compare"
   ]
  },
  {
   "cell_type": "code",
   "execution_count": 27,
   "metadata": {},
   "outputs": [
    {
     "data": {
      "image/png": "[encoded data removed]",
      "text/plain": [
       "<Figure size 1000x600 with 2 Axes>"
      ]
     },
     "metadata": {},
     "output_type": "display_data"
    }
   ],
   "source": [
    "sns.set(style=\"whitegrid\")\n",
    "fig, ax1 = plt.subplots(figsize=(10, 6))\n",
    "colors = sns.color_palette(\"Set2\")\n",
    "\n",
    "# График F1-метрик (столбцы)\n",
    "ax1.bar(compare['model'], compare['f1_cv'], color=colors, alpha=0.7, label='F1 метрика')\n",
    "ax1.set_xlabel('модель')\n",
    "ax1.set_ylabel('F1 Score', color='blue')\n",
    "ax1.tick_params(axis='y', labelcolor='blue')\n",
    "ax1.set_ylim(0.7, 0.9)\n",
    "\n",
    "# Создаем вторую ось для времени обучения\n",
    "ax2 = ax1.twinx()\n",
    "ax2.plot(compare['model'], compare['mean_fit_time_sec'], color='red', marker='o')\n",
    "ax2.set_ylabel('время обучения (сек)', color='red')\n",
    "ax2.tick_params(axis='y', labelcolor='red')\n",
    "ax2.set_ylim(0, 350)\n",
    "\n",
    "plt.title('Сравнение моделей по f1 и времени обучения')\n",
    "plt.show()"
   ]
  },
  {
   "cell_type": "markdown",
   "metadata": {},
   "source": [
    "**Теперь лучшая  модель это логистическая регрессия обученная на векторизированном через BERT тексте. C = 5**"
   ]
  },
  {
   "cell_type": "code",
   "execution_count": 29,
   "metadata": {},
   "outputs": [
    {
     "name": "stdout",
     "output_type": "stream",
     "text": [
      "f1 лучшей модели на тестовой выборке:  0.9066\n"
     ]
    }
   ],
   "source": [
    "y_pred_test = grid_search_bert.predict(X_test)\n",
    "\n",
    "print('f1 лучшей модели на тестовой выборке: ', \\\n",
    "      round(f1_score(y_test, y_pred_test, average='binary', pos_label = 1), 4))\n"
   ]
  },
  {
   "cell_type": "markdown",
   "metadata": {},
   "source": [
    "нужная метрика достигнута! Благодаря BERT ее удалось существенно повысить!"
   ]
  },
  {
   "cell_type": "markdown",
   "metadata": {},
   "source": [
    "## Выводы"
   ]
  },
  {
   "cell_type": "markdown",
   "metadata": {},
   "source": [
    "Задачей проекта была модель классифицирующая твиты как токсичные и нетоксичные. Согласно техническому заданию от модели требовалось значение метрики f1 не ниже 0.75. На этапе подготовки данных, проводилась лемматизация методом spacy и векторизация твитов методом tf-idf и BERT. На этапе обучения были испробованы две модели машинного обучения: LogisticRegression и LinearSVC. Для первых двух моделей на кроссвалидации подбирались параметры регуляризации и class_weight. Также у каждой модели подбирался параметр tf-idf n_gramm_range. Также эти две модели были испробованы при векторизации текста через BERT. По результатам сравнительного анализа моделей в качестве лучшей была выюрана логистическая регрессия с текстом векторизироанным через BERT, class_weight = balanced, C = 5, поскольку она обладает наилучшей точностью и скоростью обучения. Однако представление текстов через BERT занимает довольно много времени. На тестовой выборке модель показала себя хорошо, выполнив норматив по метрике f1 (0.9066)"
   ]
  }
 ],
 "metadata": {
  "ExecuteTimeLog": [
   {
    "duration": 1416,
    "start_time": "2024-09-09T14:34:02.887Z"
   },
   {
    "duration": 140,
    "start_time": "2024-09-09T14:36:07.583Z"
   },
   {
    "duration": 1339,
    "start_time": "2024-09-09T14:36:26.574Z"
   },
   {
    "duration": 38,
    "start_time": "2024-09-09T14:38:48.519Z"
   },
   {
    "duration": 15,
    "start_time": "2024-09-09T14:40:17.544Z"
   },
   {
    "duration": 137,
    "start_time": "2024-09-09T14:40:30.259Z"
   },
   {
    "duration": 12,
    "start_time": "2024-09-09T14:42:24.071Z"
   },
   {
    "duration": 127,
    "start_time": "2024-09-09T14:44:51.926Z"
   },
   {
    "duration": 138,
    "start_time": "2024-09-09T14:47:33.134Z"
   },
   {
    "duration": 6,
    "start_time": "2024-09-09T14:59:43.668Z"
   },
   {
    "duration": 3,
    "start_time": "2024-09-09T15:00:24.301Z"
   },
   {
    "duration": 29,
    "start_time": "2024-09-09T15:11:23.526Z"
   },
   {
    "duration": 357,
    "start_time": "2024-09-09T15:15:06.157Z"
   },
   {
    "duration": 1191,
    "start_time": "2024-09-09T15:17:03.841Z"
   },
   {
    "duration": 975,
    "start_time": "2024-09-09T15:17:05.034Z"
   },
   {
    "duration": 52,
    "start_time": "2024-09-09T15:17:06.011Z"
   },
   {
    "duration": 17,
    "start_time": "2024-09-09T15:17:06.065Z"
   },
   {
    "duration": 192,
    "start_time": "2024-09-09T15:17:06.083Z"
   },
   {
    "duration": 198242,
    "start_time": "2024-09-09T15:17:06.277Z"
   },
   {
    "duration": 3239,
    "start_time": "2024-09-09T16:44:55.651Z"
   },
   {
    "duration": 557,
    "start_time": "2024-09-09T16:45:22.572Z"
   },
   {
    "duration": 4119,
    "start_time": "2024-09-09T16:45:35.946Z"
   },
   {
    "duration": 917,
    "start_time": "2024-09-09T16:45:40.067Z"
   },
   {
    "duration": 40,
    "start_time": "2024-09-09T16:45:40.985Z"
   },
   {
    "duration": 15,
    "start_time": "2024-09-09T16:45:41.027Z"
   },
   {
    "duration": 154,
    "start_time": "2024-09-09T16:45:41.043Z"
   },
   {
    "duration": 548,
    "start_time": "2024-09-09T16:45:41.198Z"
   },
   {
    "duration": 2273829,
    "start_time": "2024-09-09T16:46:00.200Z"
   },
   {
    "duration": 5698,
    "start_time": "2024-09-12T07:01:41.146Z"
   },
   {
    "duration": 401,
    "start_time": "2024-09-12T07:02:08.842Z"
   },
   {
    "duration": 49,
    "start_time": "2024-09-12T07:02:18.265Z"
   },
   {
    "duration": 3834,
    "start_time": "2024-09-12T07:02:31.780Z"
   },
   {
    "duration": 34,
    "start_time": "2024-09-12T07:03:01.909Z"
   },
   {
    "duration": 37,
    "start_time": "2024-09-12T07:03:23.967Z"
   },
   {
    "duration": 15,
    "start_time": "2024-09-12T07:03:42.961Z"
   },
   {
    "duration": 133,
    "start_time": "2024-09-12T07:03:51.701Z"
   },
   {
    "duration": 5467,
    "start_time": "2024-09-12T07:19:53.138Z"
   },
   {
    "duration": 3864,
    "start_time": "2024-09-12T07:19:58.607Z"
   },
   {
    "duration": 35,
    "start_time": "2024-09-12T07:20:02.473Z"
   },
   {
    "duration": 40,
    "start_time": "2024-09-12T07:20:02.509Z"
   },
   {
    "duration": 33,
    "start_time": "2024-09-12T07:20:02.552Z"
   },
   {
    "duration": 171,
    "start_time": "2024-09-12T07:20:02.587Z"
   },
   {
    "duration": 5284,
    "start_time": "2024-09-12T07:38:26.756Z"
   },
   {
    "duration": 3795,
    "start_time": "2024-09-12T07:38:32.042Z"
   },
   {
    "duration": 32,
    "start_time": "2024-09-12T07:38:35.839Z"
   },
   {
    "duration": 38,
    "start_time": "2024-09-12T07:38:35.872Z"
   },
   {
    "duration": 15,
    "start_time": "2024-09-12T07:38:35.912Z"
   },
   {
    "duration": 153,
    "start_time": "2024-09-12T07:38:35.928Z"
   },
   {
    "duration": 5105,
    "start_time": "2024-09-12T08:00:53.417Z"
   },
   {
    "duration": 3803,
    "start_time": "2024-09-12T08:00:58.524Z"
   },
   {
    "duration": 33,
    "start_time": "2024-09-12T08:01:02.328Z"
   },
   {
    "duration": 57,
    "start_time": "2024-09-12T08:01:02.363Z"
   },
   {
    "duration": 15,
    "start_time": "2024-09-12T08:01:02.421Z"
   },
   {
    "duration": 185,
    "start_time": "2024-09-12T08:01:02.438Z"
   },
   {
    "duration": 6,
    "start_time": "2024-09-12T08:01:02.624Z"
   },
   {
    "duration": 0,
    "start_time": "2024-09-12T08:01:02.632Z"
   },
   {
    "duration": 0,
    "start_time": "2024-09-12T08:01:02.634Z"
   },
   {
    "duration": 0,
    "start_time": "2024-09-12T08:01:02.635Z"
   },
   {
    "duration": 0,
    "start_time": "2024-09-12T08:01:02.636Z"
   },
   {
    "duration": 0,
    "start_time": "2024-09-12T08:01:02.638Z"
   },
   {
    "duration": 5328,
    "start_time": "2024-09-12T08:01:54.506Z"
   },
   {
    "duration": 952,
    "start_time": "2024-09-12T08:01:59.836Z"
   },
   {
    "duration": 34,
    "start_time": "2024-09-12T08:02:00.790Z"
   },
   {
    "duration": 61,
    "start_time": "2024-09-12T08:02:00.825Z"
   },
   {
    "duration": 15,
    "start_time": "2024-09-12T08:02:00.888Z"
   },
   {
    "duration": 159,
    "start_time": "2024-09-12T08:02:00.905Z"
   },
   {
    "duration": 92851,
    "start_time": "2024-09-12T08:02:01.066Z"
   },
   {
    "duration": 38,
    "start_time": "2024-09-12T08:03:33.919Z"
   },
   {
    "duration": 1138,
    "start_time": "2024-09-12T08:03:33.959Z"
   },
   {
    "duration": 0,
    "start_time": "2024-09-12T08:03:35.099Z"
   },
   {
    "duration": 0,
    "start_time": "2024-09-12T08:03:35.101Z"
   },
   {
    "duration": 0,
    "start_time": "2024-09-12T08:03:35.102Z"
   },
   {
    "duration": 27,
    "start_time": "2024-09-12T08:09:38.130Z"
   },
   {
    "duration": 7,
    "start_time": "2024-09-12T08:10:10.957Z"
   },
   {
    "duration": 67,
    "start_time": "2024-09-12T08:10:23.621Z"
   },
   {
    "duration": 12427,
    "start_time": "2024-09-12T08:10:26.762Z"
   },
   {
    "duration": 4,
    "start_time": "2024-09-12T08:10:39.191Z"
   },
   {
    "duration": 6,
    "start_time": "2024-09-12T08:10:39.196Z"
   },
   {
    "duration": 48777,
    "start_time": "2024-09-12T08:19:14.473Z"
   },
   {
    "duration": 48249,
    "start_time": "2024-09-12T08:20:28.082Z"
   },
   {
    "duration": 52207,
    "start_time": "2024-09-12T08:24:36.517Z"
   },
   {
    "duration": 48351,
    "start_time": "2024-09-12T08:43:25.184Z"
   },
   {
    "duration": 22661,
    "start_time": "2024-09-12T08:44:27.367Z"
   },
   {
    "duration": 28638,
    "start_time": "2024-09-12T08:49:14.907Z"
   },
   {
    "duration": 5016,
    "start_time": "2024-09-12T08:54:35.314Z"
   },
   {
    "duration": 933,
    "start_time": "2024-09-12T08:54:40.332Z"
   },
   {
    "duration": 36,
    "start_time": "2024-09-12T08:54:41.266Z"
   },
   {
    "duration": 44,
    "start_time": "2024-09-12T08:54:41.304Z"
   },
   {
    "duration": 14,
    "start_time": "2024-09-12T08:54:41.349Z"
   },
   {
    "duration": 140,
    "start_time": "2024-09-12T08:54:41.376Z"
   },
   {
    "duration": 90115,
    "start_time": "2024-09-12T08:54:41.517Z"
   },
   {
    "duration": 49,
    "start_time": "2024-09-12T08:56:11.634Z"
   },
   {
    "duration": 8,
    "start_time": "2024-09-12T08:56:11.685Z"
   },
   {
    "duration": 83,
    "start_time": "2024-09-12T08:56:11.696Z"
   },
   {
    "duration": 12070,
    "start_time": "2024-09-12T08:56:11.781Z"
   },
   {
    "duration": 4,
    "start_time": "2024-09-12T08:56:23.853Z"
   },
   {
    "duration": 19,
    "start_time": "2024-09-12T08:56:23.858Z"
   },
   {
    "duration": 23854,
    "start_time": "2024-09-12T08:56:23.878Z"
   },
   {
    "duration": 5265,
    "start_time": "2024-09-12T08:59:56.967Z"
   },
   {
    "duration": 929,
    "start_time": "2024-09-12T09:00:02.234Z"
   },
   {
    "duration": 34,
    "start_time": "2024-09-12T09:00:03.165Z"
   },
   {
    "duration": 50,
    "start_time": "2024-09-12T09:00:03.200Z"
   },
   {
    "duration": 15,
    "start_time": "2024-09-12T09:00:03.252Z"
   },
   {
    "duration": 139,
    "start_time": "2024-09-12T09:00:03.276Z"
   },
   {
    "duration": 90776,
    "start_time": "2024-09-12T09:00:03.416Z"
   },
   {
    "duration": 34,
    "start_time": "2024-09-12T09:01:34.194Z"
   },
   {
    "duration": 6,
    "start_time": "2024-09-12T09:01:34.229Z"
   },
   {
    "duration": 84,
    "start_time": "2024-09-12T09:01:34.237Z"
   },
   {
    "duration": 11949,
    "start_time": "2024-09-12T09:01:34.322Z"
   },
   {
    "duration": 4,
    "start_time": "2024-09-12T09:01:46.276Z"
   },
   {
    "duration": 10,
    "start_time": "2024-09-12T09:01:46.281Z"
   },
   {
    "duration": 6368,
    "start_time": "2024-09-12T09:01:46.293Z"
   },
   {
    "duration": 14566,
    "start_time": "2024-09-12T09:08:15.400Z"
   },
   {
    "duration": 100173,
    "start_time": "2024-09-12T09:10:14.985Z"
   },
   {
    "duration": 6857,
    "start_time": "2024-09-12T09:12:03.605Z"
   },
   {
    "duration": 417,
    "start_time": "2024-09-12T09:12:39.143Z"
   },
   {
    "duration": 5273,
    "start_time": "2024-09-12T09:15:26.390Z"
   },
   {
    "duration": 920,
    "start_time": "2024-09-12T09:15:31.665Z"
   },
   {
    "duration": 34,
    "start_time": "2024-09-12T09:15:32.587Z"
   },
   {
    "duration": 59,
    "start_time": "2024-09-12T09:15:32.623Z"
   },
   {
    "duration": 14,
    "start_time": "2024-09-12T09:15:32.685Z"
   },
   {
    "duration": 152,
    "start_time": "2024-09-12T09:15:32.701Z"
   },
   {
    "duration": 91642,
    "start_time": "2024-09-12T09:15:32.854Z"
   },
   {
    "duration": 40,
    "start_time": "2024-09-12T09:17:04.498Z"
   },
   {
    "duration": 8,
    "start_time": "2024-09-12T09:17:04.540Z"
   },
   {
    "duration": 95,
    "start_time": "2024-09-12T09:17:04.550Z"
   },
   {
    "duration": 12123,
    "start_time": "2024-09-12T09:17:04.647Z"
   },
   {
    "duration": 4,
    "start_time": "2024-09-12T09:17:16.776Z"
   },
   {
    "duration": 39,
    "start_time": "2024-09-12T09:17:16.781Z"
   },
   {
    "duration": 6577,
    "start_time": "2024-09-12T09:17:16.822Z"
   },
   {
    "duration": 6622,
    "start_time": "2024-09-12T09:19:18.001Z"
   },
   {
    "duration": 6959,
    "start_time": "2024-09-12T09:19:34.956Z"
   },
   {
    "duration": 6617,
    "start_time": "2024-09-12T09:19:48.741Z"
   },
   {
    "duration": 6933,
    "start_time": "2024-09-12T09:20:00.950Z"
   },
   {
    "duration": 6342,
    "start_time": "2024-09-12T09:20:15.766Z"
   },
   {
    "duration": 6496,
    "start_time": "2024-09-12T09:20:32.665Z"
   },
   {
    "duration": 6704,
    "start_time": "2024-09-12T09:20:47.516Z"
   },
   {
    "duration": 6428,
    "start_time": "2024-09-12T09:21:06.436Z"
   },
   {
    "duration": 67,
    "start_time": "2024-09-12T15:39:10.958Z"
   },
   {
    "duration": 5,
    "start_time": "2024-09-12T15:39:27.108Z"
   },
   {
    "duration": 3,
    "start_time": "2024-09-12T15:39:31.899Z"
   },
   {
    "duration": 93,
    "start_time": "2024-09-12T15:40:06.386Z"
   },
   {
    "duration": 5306,
    "start_time": "2024-09-12T15:40:11.251Z"
   },
   {
    "duration": 3786,
    "start_time": "2024-09-12T15:40:16.559Z"
   },
   {
    "duration": 30,
    "start_time": "2024-09-12T15:40:20.347Z"
   },
   {
    "duration": 45,
    "start_time": "2024-09-12T15:40:20.380Z"
   },
   {
    "duration": 15,
    "start_time": "2024-09-12T15:40:20.427Z"
   },
   {
    "duration": 167,
    "start_time": "2024-09-12T15:40:20.443Z"
   },
   {
    "duration": 90731,
    "start_time": "2024-09-12T15:40:20.612Z"
   },
   {
    "duration": 37,
    "start_time": "2024-09-12T15:41:51.344Z"
   },
   {
    "duration": 59,
    "start_time": "2024-09-12T15:41:51.383Z"
   },
   {
    "duration": 12745,
    "start_time": "2024-09-12T15:41:51.444Z"
   },
   {
    "duration": 6,
    "start_time": "2024-09-12T15:42:04.191Z"
   },
   {
    "duration": 4,
    "start_time": "2024-09-12T15:42:04.199Z"
   },
   {
    "duration": 38725,
    "start_time": "2024-09-12T15:42:04.204Z"
   },
   {
    "duration": 10,
    "start_time": "2024-09-12T15:45:04.194Z"
   },
   {
    "duration": 22,
    "start_time": "2024-09-12T15:45:16.385Z"
   },
   {
    "duration": 17,
    "start_time": "2024-09-12T15:45:35.426Z"
   },
   {
    "duration": 11,
    "start_time": "2024-09-12T15:47:00.775Z"
   },
   {
    "duration": 16,
    "start_time": "2024-09-12T15:48:36.506Z"
   },
   {
    "duration": 6303,
    "start_time": "2024-09-12T15:49:26.742Z"
   },
   {
    "duration": 61083,
    "start_time": "2024-09-12T15:50:03.210Z"
   },
   {
    "duration": 19,
    "start_time": "2024-09-12T15:51:08.679Z"
   },
   {
    "duration": 6891,
    "start_time": "2024-09-12T15:53:34.682Z"
   },
   {
    "duration": 5537,
    "start_time": "2024-09-12T15:55:49.184Z"
   },
   {
    "duration": 1379,
    "start_time": "2024-09-12T15:55:54.723Z"
   },
   {
    "duration": 32,
    "start_time": "2024-09-12T15:55:56.104Z"
   },
   {
    "duration": 61,
    "start_time": "2024-09-12T15:55:56.138Z"
   },
   {
    "duration": 14,
    "start_time": "2024-09-12T15:55:56.201Z"
   },
   {
    "duration": 163,
    "start_time": "2024-09-12T15:55:56.217Z"
   },
   {
    "duration": 97633,
    "start_time": "2024-09-12T15:55:56.383Z"
   },
   {
    "duration": 36,
    "start_time": "2024-09-12T15:57:34.018Z"
   },
   {
    "duration": 80,
    "start_time": "2024-09-12T15:57:34.056Z"
   },
   {
    "duration": 12631,
    "start_time": "2024-09-12T15:57:34.137Z"
   },
   {
    "duration": 10,
    "start_time": "2024-09-12T15:57:46.770Z"
   },
   {
    "duration": 13,
    "start_time": "2024-09-12T15:57:46.783Z"
   },
   {
    "duration": 70670,
    "start_time": "2024-09-12T15:57:46.800Z"
   },
   {
    "duration": 12,
    "start_time": "2024-09-12T15:58:57.476Z"
   },
   {
    "duration": 18,
    "start_time": "2024-09-12T15:58:57.490Z"
   },
   {
    "duration": 15,
    "start_time": "2024-09-12T15:58:57.510Z"
   },
   {
    "duration": 10,
    "start_time": "2024-09-12T16:00:44.058Z"
   },
   {
    "duration": 21,
    "start_time": "2024-09-12T16:15:31.862Z"
   },
   {
    "duration": 15,
    "start_time": "2024-09-12T16:15:45.215Z"
   },
   {
    "duration": 16,
    "start_time": "2024-09-12T16:16:23.918Z"
   },
   {
    "duration": 1223,
    "start_time": "2024-09-12T16:50:53.586Z"
   },
   {
    "duration": 4191,
    "start_time": "2024-09-12T16:55:19.451Z"
   },
   {
    "duration": 1247,
    "start_time": "2024-09-12T16:55:39.829Z"
   },
   {
    "duration": 5915,
    "start_time": "2024-09-12T16:56:28.194Z"
   },
   {
    "duration": 1205,
    "start_time": "2024-09-12T16:56:42.633Z"
   },
   {
    "duration": 2851,
    "start_time": "2024-09-12T16:56:58.970Z"
   },
   {
    "duration": 2322,
    "start_time": "2024-09-12T16:57:07.775Z"
   },
   {
    "duration": 1741,
    "start_time": "2024-09-12T16:57:14.120Z"
   },
   {
    "duration": 1278,
    "start_time": "2024-09-12T16:57:29.208Z"
   },
   {
    "duration": 1184,
    "start_time": "2024-09-12T16:57:44.247Z"
   },
   {
    "duration": 437,
    "start_time": "2024-09-12T16:59:10.659Z"
   },
   {
    "duration": 31913,
    "start_time": "2024-09-12T17:02:04.200Z"
   },
   {
    "duration": 27,
    "start_time": "2024-09-12T17:03:36.470Z"
   },
   {
    "duration": 16,
    "start_time": "2024-09-12T17:04:08.177Z"
   },
   {
    "duration": 13,
    "start_time": "2024-09-12T17:05:25.108Z"
   },
   {
    "duration": 289885,
    "start_time": "2024-09-12T17:14:02.342Z"
   },
   {
    "duration": 5,
    "start_time": "2024-09-12T17:38:13.640Z"
   },
   {
    "duration": 5205,
    "start_time": "2024-09-12T17:38:28.783Z"
   },
   {
    "duration": 4,
    "start_time": "2024-09-12T17:43:46.994Z"
   },
   {
    "duration": 11,
    "start_time": "2024-09-12T17:43:50.542Z"
   },
   {
    "duration": 5499,
    "start_time": "2024-09-12T17:44:36.496Z"
   },
   {
    "duration": 1035,
    "start_time": "2024-09-12T17:44:41.997Z"
   },
   {
    "duration": 32,
    "start_time": "2024-09-12T17:44:43.034Z"
   },
   {
    "duration": 40,
    "start_time": "2024-09-12T17:44:43.068Z"
   },
   {
    "duration": 15,
    "start_time": "2024-09-12T17:44:43.110Z"
   },
   {
    "duration": 149,
    "start_time": "2024-09-12T17:44:43.127Z"
   },
   {
    "duration": 90368,
    "start_time": "2024-09-12T17:44:43.277Z"
   },
   {
    "duration": 45,
    "start_time": "2024-09-12T17:46:13.647Z"
   },
   {
    "duration": 63,
    "start_time": "2024-09-12T17:46:13.693Z"
   },
   {
    "duration": 12583,
    "start_time": "2024-09-12T17:46:13.758Z"
   },
   {
    "duration": 4,
    "start_time": "2024-09-12T17:46:26.342Z"
   },
   {
    "duration": 5,
    "start_time": "2024-09-12T17:46:26.348Z"
   },
   {
    "duration": 67446,
    "start_time": "2024-09-12T17:46:26.354Z"
   },
   {
    "duration": 13,
    "start_time": "2024-09-12T17:47:33.803Z"
   },
   {
    "duration": 32406,
    "start_time": "2024-09-12T17:47:33.818Z"
   },
   {
    "duration": 14,
    "start_time": "2024-09-12T17:48:06.226Z"
   },
   {
    "duration": 308634,
    "start_time": "2024-09-12T17:48:06.242Z"
   },
   {
    "duration": 368,
    "start_time": "2024-09-12T17:53:14.877Z"
   },
   {
    "duration": 10,
    "start_time": "2024-09-12T18:13:44.088Z"
   },
   {
    "duration": 9,
    "start_time": "2024-09-12T18:13:52.143Z"
   },
   {
    "duration": 137,
    "start_time": "2024-09-12T18:14:00.000Z"
   },
   {
    "duration": 5,
    "start_time": "2024-09-12T18:14:08.668Z"
   },
   {
    "duration": 161,
    "start_time": "2024-09-12T18:14:12.656Z"
   },
   {
    "duration": 131,
    "start_time": "2024-09-12T18:14:22.947Z"
   },
   {
    "duration": 436,
    "start_time": "2024-09-12T18:16:28.957Z"
   },
   {
    "duration": 407,
    "start_time": "2024-09-12T18:18:19.302Z"
   },
   {
    "duration": 407,
    "start_time": "2024-09-12T18:18:33.976Z"
   },
   {
    "duration": 372,
    "start_time": "2024-09-12T18:18:49.509Z"
   },
   {
    "duration": 385,
    "start_time": "2024-09-12T18:21:08.177Z"
   },
   {
    "duration": 370,
    "start_time": "2024-09-12T18:21:14.591Z"
   },
   {
    "duration": 346,
    "start_time": "2024-09-12T18:21:21.453Z"
   },
   {
    "duration": 350,
    "start_time": "2024-09-12T18:21:34.220Z"
   },
   {
    "duration": 346,
    "start_time": "2024-09-12T18:21:42.317Z"
   },
   {
    "duration": 225,
    "start_time": "2024-09-12T18:27:14.598Z"
   },
   {
    "duration": 354,
    "start_time": "2024-09-12T18:27:22.703Z"
   },
   {
    "duration": 203,
    "start_time": "2024-09-12T18:27:35.227Z"
   },
   {
    "duration": 5082,
    "start_time": "2024-09-12T18:31:58.887Z"
   },
   {
    "duration": 881,
    "start_time": "2024-09-12T18:32:03.971Z"
   },
   {
    "duration": 39,
    "start_time": "2024-09-12T18:32:04.853Z"
   },
   {
    "duration": 37,
    "start_time": "2024-09-12T18:32:04.894Z"
   },
   {
    "duration": 16,
    "start_time": "2024-09-12T18:32:04.933Z"
   },
   {
    "duration": 152,
    "start_time": "2024-09-12T18:32:04.950Z"
   },
   {
    "duration": 84216,
    "start_time": "2024-09-12T18:32:05.103Z"
   },
   {
    "duration": 37,
    "start_time": "2024-09-12T18:33:29.320Z"
   },
   {
    "duration": 105,
    "start_time": "2024-09-12T18:33:29.359Z"
   },
   {
    "duration": 11570,
    "start_time": "2024-09-12T18:33:29.466Z"
   },
   {
    "duration": 4,
    "start_time": "2024-09-12T18:33:41.038Z"
   },
   {
    "duration": 5,
    "start_time": "2024-09-12T18:33:41.044Z"
   },
   {
    "duration": 54655,
    "start_time": "2024-09-12T18:33:41.051Z"
   },
   {
    "duration": 11,
    "start_time": "2024-09-12T18:34:35.708Z"
   },
   {
    "duration": 20986,
    "start_time": "2024-09-12T18:34:35.721Z"
   },
   {
    "duration": 12,
    "start_time": "2024-09-12T18:34:56.708Z"
   },
   {
    "duration": 235891,
    "start_time": "2024-09-12T18:34:56.721Z"
   },
   {
    "duration": 8,
    "start_time": "2024-09-12T18:38:52.614Z"
   },
   {
    "duration": 222,
    "start_time": "2024-09-12T18:38:52.623Z"
   },
   {
    "duration": 15,
    "start_time": "2024-09-12T18:38:52.847Z"
   },
   {
    "duration": 5219,
    "start_time": "2024-09-12T19:09:43.574Z"
   },
   {
    "duration": 957,
    "start_time": "2024-09-12T19:09:48.795Z"
   },
   {
    "duration": 42,
    "start_time": "2024-09-12T19:09:49.753Z"
   },
   {
    "duration": 38,
    "start_time": "2024-09-12T19:09:49.796Z"
   },
   {
    "duration": 15,
    "start_time": "2024-09-12T19:09:49.837Z"
   },
   {
    "duration": 164,
    "start_time": "2024-09-12T19:09:49.854Z"
   },
   {
    "duration": 93652,
    "start_time": "2024-09-12T19:09:50.019Z"
   },
   {
    "duration": 37,
    "start_time": "2024-09-12T19:11:23.676Z"
   },
   {
    "duration": 78,
    "start_time": "2024-09-12T19:11:23.714Z"
   },
   {
    "duration": 11995,
    "start_time": "2024-09-12T19:11:23.793Z"
   },
   {
    "duration": 3,
    "start_time": "2024-09-12T19:11:35.790Z"
   },
   {
    "duration": 18,
    "start_time": "2024-09-12T19:11:35.794Z"
   },
   {
    "duration": 55854,
    "start_time": "2024-09-12T19:11:35.814Z"
   },
   {
    "duration": 13,
    "start_time": "2024-09-12T19:12:31.677Z"
   },
   {
    "duration": 21529,
    "start_time": "2024-09-12T19:12:31.692Z"
   },
   {
    "duration": 12,
    "start_time": "2024-09-12T19:12:53.223Z"
   },
   {
    "duration": 273975,
    "start_time": "2024-09-12T19:12:53.236Z"
   },
   {
    "duration": 8,
    "start_time": "2024-09-12T19:17:27.213Z"
   },
   {
    "duration": 210,
    "start_time": "2024-09-12T19:17:27.222Z"
   },
   {
    "duration": 15,
    "start_time": "2024-09-12T19:17:27.433Z"
   },
   {
    "duration": 5354,
    "start_time": "2024-09-16T12:00:32.166Z"
   },
   {
    "duration": 3782,
    "start_time": "2024-09-16T12:00:37.522Z"
   },
   {
    "duration": 32,
    "start_time": "2024-09-16T12:00:41.306Z"
   },
   {
    "duration": 34,
    "start_time": "2024-09-16T12:00:41.340Z"
   },
   {
    "duration": 14,
    "start_time": "2024-09-16T12:00:41.376Z"
   },
   {
    "duration": 136,
    "start_time": "2024-09-16T12:00:41.391Z"
   }
  ],
  "kernelspec": {
   "display_name": "Python [conda env:base] *",
   "language": "python",
   "name": "conda-base-py"
  },
  "language_info": {
   "codemirror_mode": {
    "name": "ipython",
    "version": 3
   },
   "file_extension": ".py",
   "mimetype": "text/x-python",
   "name": "python",
   "nbconvert_exporter": "python",
   "pygments_lexer": "ipython3",
   "version": "3.11.10"
  },
  "toc": {
   "base_numbering": 1,
   "nav_menu": {},
   "number_sections": true,
   "sideBar": true,
   "skip_h1_title": true,
   "title_cell": "Содержание",
   "title_sidebar": "Contents",
   "toc_cell": true,
   "toc_position": {
    "height": "calc(100% - 180px)",
    "left": "10px",
    "top": "150px",
    "width": "302.391px"
   },
   "toc_section_display": true,
   "toc_window_display": true
  }
 },
 "nbformat": 4,
 "nbformat_minor": 4
}
